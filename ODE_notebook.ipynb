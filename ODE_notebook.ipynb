{
 "cells": [
  {
   "attachments": {},
   "cell_type": "markdown",
   "metadata": {},
   "source": [
    "# An introduction to Ordinary Differential Equations\n",
    "\n",
    "<p class=\"pm-node nj-authors\">Marc Sturrock</p>\n",
    "\n",
    "Inspired by source: <https://github.com/JuliaDiffEq/DiffEqTutorials.jl>\n",
    "\n",
    "# Ordinary Differential Equations (ODEs)\n",
    "\n",
    "This notebook will get you started with DifferentialEquations.jl by introducing you to the functionality for solving ordinary differential equations (ODEs). The corresponding documentation page is the [ODE tutorial](https://docs.sciml.ai/DiffEqDocs/stable/getting_started/). While some of the syntax may be different for other types of equations, the same general principles hold in each case. The goal is to give a gentle and thorough introduction that highlights these principles in a way that will help you generalise what you have learned.\n",
    "\n",
    "## Background\n",
    "\n",
    "If you are new to the study of differential equations, it can be helpful to do a quick background read on [the definition of ordinary differential equations](https://en.wikipedia.org/wiki/Ordinary_differential_equation). We define an ordinary differential equation as an equation which describes the way that a variable $u$ changes, that is\n",
    "\n",
    "$u' = f(u,p,t)$\n",
    "\n",
    "where $p$ are the parameters of the model, $t$ is the time variable, and $f$ is the nonlinear model of how $u$ changes. The initial value problem also includes the information about the starting value:\n",
    "\n",
    "$u(t_0) = u_0$\n",
    "\n",
    "Together, if you know the starting value and you know how the value will change with time, then you know what the value will be at any time point in the future. This is the intuitive definition of a differential equation.\n",
    "\n",
    "## First Model: Exponential Growth\n",
    "\n",
    "Our first model will be the canonical exponential growth model. An exponential growth model can be used to model many natural phenomena, such as population growth in ecosystems, the spread of infectious diseases in a susceptible population, the accumulation of compound interest in finance, and the proliferation of cells in biology.  This model says that the rate of change is proportional to the current value, and is this:\n",
    "\n",
    "$u' = au$\n",
    "\n",
    "where we have a starting value $u(0)=u_0$. Let's say we put 1 dollar into Bitcoin which is increasing at a rate of $98%$ per year. Then calling now $t=0$ and measuring time in years, our model is:\n",
    "\n",
    "$u' = 0.98u$\n",
    "\n",
    "and $u(0) = 1.0$. We encode this into Julia by noticing that, in this setup, we match the general form when"
   ]
  },
  {
   "cell_type": "code",
   "execution_count": null,
   "metadata": {
    "nextjournal": {
     "id": "ef9c410a-5ca4-4ea9-9670-dea043b1f91c",
     "kind": "code",
     "language": "julia"
    }
   },
   "outputs": [],
   "source": [
    "f(u,p,t) = 0.98u"
   ]
  },
  {
   "attachments": {},
   "cell_type": "markdown",
   "metadata": {},
   "source": [
    "with $u_0 = 1.0$. If we want to solve this model on a time span from `t=0.0` to `t=1.0`, then we define an `ODEProblem` by specifying this function `f`, this initial condition `u0`, and this time span as follows:"
   ]
  },
  {
   "cell_type": "code",
   "execution_count": null,
   "metadata": {
    "nextjournal": {
     "id": "e99a0379-f6da-47af-8d15-d9c50c7831cb",
     "kind": "code",
     "language": "julia"
    }
   },
   "outputs": [],
   "source": [
    "using OrdinaryDiffEq\n",
    "f(u,p,t) = 0.98u\n",
    "u0 = 1.0\n",
    "tspan = (0.0,1.0)\n",
    "prob = ODEProblem(f,u0,tspan)"
   ]
  },
  {
   "attachments": {},
   "cell_type": "markdown",
   "metadata": {},
   "source": [
    "To solve our `ODEProblem` we use the command `solve`."
   ]
  },
  {
   "cell_type": "code",
   "execution_count": null,
   "metadata": {
    "nextjournal": {
     "id": "07530863-ec9c-430e-a6e8-470748292c08",
     "kind": "code",
     "language": "julia"
    }
   },
   "outputs": [],
   "source": [
    "sol = solve(prob, Tsit5())"
   ]
  },
  {
   "attachments": {},
   "cell_type": "markdown",
   "metadata": {},
   "source": [
    "and that's it: we have succesfully solved our first ODE!\n",
    "\n",
    "## Analysing the Solution\n",
    "\n",
    "Of course, the solution type is not interesting in and of itself. We want to understand the solution! The documentation page which explains in detail the functions for analyzing the `solution` is the [Solution Handling](https://docs.sciml.ai/DiffEqDocs/stable/basics/solution/) page. Here we will describe some of the basics. You can plot the solution using the plot recipe provided by [Plots.jl](http://docs.juliaplots.org/latest/):"
   ]
  },
  {
   "cell_type": "code",
   "execution_count": null,
   "metadata": {
    "nextjournal": {
     "id": "c4564878-09fb-42f4-92c8-fc5327532015",
     "kind": "code",
     "language": "julia"
    }
   },
   "outputs": [],
   "source": [
    "using Plots; gr(lw=3)\n",
    "plot(sol)"
   ]
  },
  {
   "attachments": {},
   "cell_type": "markdown",
   "metadata": {},
   "source": [
    "From the picture we see that the solution is an exponential curve, which matches our intuition. As a plot recipe, we can annotate the result using any of the [Plots.jl attributes](http://docs.juliaplots.org/latest/attributes/). For example:"
   ]
  },
  {
   "cell_type": "code",
   "execution_count": null,
   "metadata": {
    "nextjournal": {
     "id": "7ae00a69-0345-4379-873f-993119e5fed2",
     "kind": "code",
     "language": "julia"
    }
   },
   "outputs": [],
   "source": [
    "plot(sol, linewidth=5,\n",
    "     title=\"Solution to the linear ODE with a thick line\",\n",
    "     xaxis=\"Time (t)\", yaxis=\"u(t) (in μm)\",\n",
    "     label=\"My Thick Line!\") # legend=false"
   ]
  },
  {
   "attachments": {},
   "cell_type": "markdown",
   "metadata": {},
   "source": [
    "Using the mutating `plot!` command we can add other pieces to our plot. For this ODE we know that the true solution is $u(t) = u_0 exp(at)$, so let's add some of the true solution to our plot:"
   ]
  },
  {
   "cell_type": "code",
   "execution_count": null,
   "metadata": {
    "nextjournal": {
     "id": "8f1bf5c7-9812-469c-a44f-9819fc58d25b",
     "kind": "code",
     "language": "julia"
    }
   },
   "outputs": [],
   "source": [
    "plot!(sol.t, t->1.0*exp(0.98t), lw=3, ls=:dash, label=\"True Solution!\")"
   ]
  },
  {
   "attachments": {},
   "cell_type": "markdown",
   "metadata": {},
   "source": [
    "In the previous command I demonstrated `sol.t`, which grabs the array of time points that the solution was saved at:"
   ]
  },
  {
   "cell_type": "code",
   "execution_count": null,
   "metadata": {
    "nextjournal": {
     "id": "0cce1b85-aa2d-4cbb-8068-79e1a80b1186",
     "kind": "code",
     "language": "julia"
    }
   },
   "outputs": [],
   "source": [
    "sol.t"
   ]
  },
  {
   "attachments": {},
   "cell_type": "markdown",
   "metadata": {},
   "source": [
    "We can get the array of solution values using `sol.u`:"
   ]
  },
  {
   "cell_type": "code",
   "execution_count": null,
   "metadata": {
    "nextjournal": {
     "id": "93f9d238-f33d-4408-a960-b22d96cdf9de",
     "kind": "code",
     "language": "julia"
    }
   },
   "outputs": [],
   "source": [
    "sol.u"
   ]
  },
  {
   "attachments": {},
   "cell_type": "markdown",
   "metadata": {},
   "source": [
    "`sol.u[i]` is the value of the solution at time `sol.t[i]`. We can compute arrays of functions of the solution values using standard comprehensions, like:"
   ]
  },
  {
   "cell_type": "code",
   "execution_count": null,
   "metadata": {
    "nextjournal": {
     "id": "d715bdfc-3286-45ca-8b68-f474ca699e4f",
     "kind": "code",
     "language": "julia"
    }
   },
   "outputs": [],
   "source": [
    "[t+u for (u,t) in tuples(sol)]"
   ]
  },
  {
   "attachments": {},
   "cell_type": "markdown",
   "metadata": {},
   "source": [
    "However, one interesting feature is that, by default, the solution is a continuous function. If we check the print out again:"
   ]
  },
  {
   "cell_type": "code",
   "execution_count": null,
   "metadata": {
    "nextjournal": {
     "id": "7f446497-0ded-45c0-9394-54b352dd49ec",
     "kind": "code",
     "language": "julia"
    }
   },
   "outputs": [],
   "source": [
    "sol"
   ]
  },
  {
   "attachments": {},
   "cell_type": "markdown",
   "metadata": {},
   "source": [
    "you see that it says that the solution has a order changing interpolation. The default algorithm automatically switches between methods in order to handle all types of problems. For non-stiff equations (like the one we are solving), it is a continuous function of 4th order accuracy. We can call the solution as a function of time `sol(t)`. For example, to get the value at `t=0.45`, we can use the command:"
   ]
  },
  {
   "cell_type": "code",
   "execution_count": null,
   "metadata": {
    "nextjournal": {
     "id": "07fde268-2bc8-49e4-9593-957e5fa05afb",
     "kind": "code",
     "language": "julia"
    }
   },
   "outputs": [],
   "source": [
    "sol(0.45)"
   ]
  },
  {
   "attachments": {},
   "cell_type": "markdown",
   "metadata": {},
   "source": [
    "## Controlling the Solver\n",
    "\n",
    "DifferentialEquations.jl has a common set of solver controls among its algorithms which can be found [at the Common Solver Options](http://docs.juliadiffeq.org/latest/basics/common_solver_opts.html) page. We will detail some of the most widely used options.\n",
    "\n",
    "### Tolerances\n",
    "\n",
    "The most useful options are the tolerances `abstol` and `reltol`. These tell the internal adaptive time stepping engine how precise of a solution you want. Generally, `reltol` is the relative accuracy while `abstol` is the accuracy when `u` is near zero. These tolerances are local tolerances and thus are not global guarantees. However, a good rule of thumb is that the total solution accuracy is 1-2 digits less than the relative tolerances. Thus for the defaults `abstol=1e-6` and `reltol=1e-3`, you can expect a global accuracy of about 1-2 digits. If we want to get around 6 digits of accuracy, we can use the commands:"
   ]
  },
  {
   "cell_type": "code",
   "execution_count": null,
   "metadata": {
    "nextjournal": {
     "id": "dbfcea5d-f69e-4bc6-b97c-5a192cb9961c",
     "kind": "code",
     "language": "julia"
    }
   },
   "outputs": [],
   "source": [
    "sol = solve(prob, Tsit5(),abstol=1e-8,reltol=1e-8)"
   ]
  },
  {
   "attachments": {},
   "cell_type": "markdown",
   "metadata": {},
   "source": [
    "Now we can see no visible difference against the true solution:"
   ]
  },
  {
   "cell_type": "code",
   "execution_count": null,
   "metadata": {
    "nextjournal": {
     "id": "99be70eb-1067-4fc5-a475-9f3f54e2c07c",
     "kind": "code",
     "language": "julia"
    }
   },
   "outputs": [],
   "source": [
    "plot(sol)\n",
    "plot!(sol.t, t->1.0*exp(0.98t),lw=3,ls=:dash,label=\"True Solution!\")"
   ]
  },
  {
   "attachments": {},
   "cell_type": "markdown",
   "metadata": {},
   "source": [
    "Notice that by decreasing the tolerance, the number of steps the solver had to take was `9` instead of the previous `5`. There is a trade off between accuracy and speed, and it is up to you to determine what is the right balance for your problem.\n",
    "\n",
    "### Saveat\n",
    "\n",
    "Another common option is to use `saveat` to make the solver save at specific time points. For example, if we want the solution at an even grid of 0.1 time unit, we would use the command:"
   ]
  },
  {
   "cell_type": "code",
   "execution_count": null,
   "metadata": {
    "nextjournal": {
     "id": "b5597b95-c443-45b5-ab57-32ce3b46f5f2",
     "kind": "code",
     "language": "julia"
    }
   },
   "outputs": [],
   "source": [
    "sol = solve(prob, Tsit5(), saveat=0.1)"
   ]
  },
  {
   "attachments": {},
   "cell_type": "markdown",
   "metadata": {},
   "source": [
    "Notice that when `saveat` is used the continuous output variables are no longer saved and thus `sol(t)`, the interpolation, is only first order. We can save at an uneven grid of points by passing a collection of values to `saveat`. For example:"
   ]
  },
  {
   "cell_type": "code",
   "execution_count": null,
   "metadata": {
    "nextjournal": {
     "id": "4962fb43-5284-48a7-9ef6-00024fb8b7b6",
     "kind": "code",
     "language": "julia"
    }
   },
   "outputs": [],
   "source": [
    "sol = solve(prob, Tsit5(),saveat=[0.2,0.7,0.9])"
   ]
  },
  {
   "attachments": {},
   "cell_type": "markdown",
   "metadata": {},
   "source": [
    "If we need to reduce the amount of saving, we can also turn off the continuous output directly via `dense=false`:"
   ]
  },
  {
   "cell_type": "code",
   "execution_count": null,
   "metadata": {
    "nextjournal": {
     "id": "c336d04e-5726-4e3e-bc25-331dca83b3dc",
     "kind": "code",
     "language": "julia"
    }
   },
   "outputs": [],
   "source": [
    "sol = solve(prob, Tsit5(),dense=false)"
   ]
  },
  {
   "attachments": {},
   "cell_type": "markdown",
   "metadata": {},
   "source": [
    "and to turn off all intermediate saving we can use `save_everystep=false`:"
   ]
  },
  {
   "cell_type": "code",
   "execution_count": null,
   "metadata": {
    "nextjournal": {
     "id": "8a00953f-cfbb-43fb-abc1-59a1e1918893",
     "kind": "code",
     "language": "julia"
    }
   },
   "outputs": [],
   "source": [
    "sol = solve(prob, Tsit5(),save_everystep=false)"
   ]
  },
  {
   "attachments": {},
   "cell_type": "markdown",
   "metadata": {},
   "source": [
    "If we want to solve and only save the final value, we can even set `save_start=false`."
   ]
  },
  {
   "cell_type": "code",
   "execution_count": null,
   "metadata": {
    "nextjournal": {
     "id": "92342c13-1c5e-4af9-a75a-559a61993968",
     "kind": "code",
     "language": "julia"
    }
   },
   "outputs": [],
   "source": [
    "sol = solve(prob, Tsit5(),save_everystep=false,save_start = false)"
   ]
  },
  {
   "attachments": {},
   "cell_type": "markdown",
   "metadata": {},
   "source": [
    "Note that similarly on the other side there is `save_end=false`.\n",
    "\n",
    "More advanced saving behaviors, such as saving functionals of the solution, are handled via the `SavingCallback` in the [Callback Library](http://docs.juliadiffeq.org/latest/features/callback_library.html#SavingCallback-1) which will be addressed later in the tutorial.\n",
    "\n",
    "### Choosing Solver Algorithms\n",
    "\n",
    "There is no best algorithm for numerically solving a differential equation. When you call `solve(prob)`, DifferentialEquations.jl (a larger package than OrdinaryDiffEq which we didn't install) makes a guess at a good algorithm for your problem, given the properties that you ask for (the tolerances, the saving information, etc.). However, in many cases you may want more direct control. However, such issues are beyond the scope of this workshop."
   ]
  },
  {
   "attachments": {},
   "cell_type": "markdown",
   "metadata": {},
   "source": [
    "## Systems of ODEs: The Lorenz Equation\n",
    "\n",
    "Now let's move to a system of ODEs. The [Lorenz equation](https://en.wikipedia.org/wiki/Lorenz_system) is the famous \"butterfly attractor\" that spawned chaos theory. It is defined by the system of ODEs:\n",
    "\n",
    "$ \\begin{align} \\frac{dx}{dt} &= \\sigma (y - x) \\\\ \\frac{dy}{dt} &= x (\\rho - z) -y \\\\ \\frac{dz}{dt} &= xy - \\beta z \\end{align} $\n",
    "\n",
    "To define a system of differential equations in DifferentialEquations.jl, we define our `f` as a vector function with a vector initial condition. Thus, for the vector `u = [x,y,z]'`, we have the derivative function:"
   ]
  },
  {
   "cell_type": "code",
   "execution_count": null,
   "metadata": {
    "nextjournal": {
     "id": "3e837f9e-ab98-44bf-8b6b-5567004d478f",
     "kind": "code",
     "language": "julia"
    }
   },
   "outputs": [],
   "source": [
    "function lorenz!(du,u,p,t)\n",
    "    σ,ρ,β = p\n",
    "    du[1] = σ*(u[2]-u[1])\n",
    "    du[2] = u[1]*(ρ-u[3]) - u[2]\n",
    "    du[3] = u[1]*u[2] - β*u[3]\n",
    "end"
   ]
  },
  {
   "attachments": {},
   "cell_type": "markdown",
   "metadata": {},
   "source": [
    "Notice here we used the in-place format which writes the output to the preallocated vector `du`. For systems of equations the in-place format is faster. We use the initial condition $u_0 = [1.0,0.0,0.0]$ as follows:"
   ]
  },
  {
   "cell_type": "code",
   "execution_count": null,
   "metadata": {
    "nextjournal": {
     "id": "8456f39f-b3e3-4537-8918-42c8c2df425f",
     "kind": "code",
     "language": "julia"
    }
   },
   "outputs": [],
   "source": [
    "u0 = [1.0,0.0,0.0]"
   ]
  },
  {
   "attachments": {},
   "cell_type": "markdown",
   "metadata": {},
   "source": [
    "Lastly, for this model we made use of the parameters `p`. We need to set this value in the `ODEProblem` as well. For our model we want to solve using the parameters $\\sigma = 10$, $\\rho = 28$, and $\\beta = 8/3$, and thus we build the parameter collection:"
   ]
  },
  {
   "cell_type": "code",
   "execution_count": null,
   "metadata": {
    "nextjournal": {
     "id": "594c9984-4b9b-4a60-b1dc-26f69a15345c",
     "kind": "code",
     "language": "julia"
    }
   },
   "outputs": [],
   "source": [
    "p = (10,28,8/3) # we could also make this an array, or any other sequence type!"
   ]
  },
  {
   "attachments": {},
   "cell_type": "markdown",
   "metadata": {},
   "source": [
    "Now we generate the `ODEProblem` type. In this case, since we have parameters, we add the parameter values to the end of the constructor call. Let's solve this on a time span of `t=0` to `t=100`:"
   ]
  },
  {
   "cell_type": "code",
   "execution_count": null,
   "metadata": {
    "nextjournal": {
     "id": "71186c65-56a6-4c54-98b9-54933f5458d8",
     "kind": "code",
     "language": "julia"
    }
   },
   "outputs": [],
   "source": [
    "tspan = (0.0,100.0)\n",
    "prob = ODEProblem(lorenz!,u0,tspan,p)"
   ]
  },
  {
   "attachments": {},
   "cell_type": "markdown",
   "metadata": {},
   "source": [
    "Now, just as before, we solve the problem:"
   ]
  },
  {
   "cell_type": "code",
   "execution_count": null,
   "metadata": {
    "nextjournal": {
     "id": "f596b283-56b5-4cd4-9c7d-83a749350cfe",
     "kind": "code",
     "language": "julia"
    }
   },
   "outputs": [],
   "source": [
    "sol = solve(prob, Tsit5())"
   ]
  },
  {
   "attachments": {},
   "cell_type": "markdown",
   "metadata": {},
   "source": [
    "The same solution handling features apply to this case. Thus `sol.t` stores the time points and `sol.u` is an array storing the solution at the corresponding time points.\n",
    "\n",
    "However, there are a few extra features which are good to know when dealing with systems of equations. First of all, `sol` also acts like an array. `sol[i]` returns the solution at the `i`th time point."
   ]
  },
  {
   "cell_type": "code",
   "execution_count": null,
   "metadata": {
    "nextjournal": {
     "id": "23a5e0c5-e6f2-4d14-8e8c-73c89d2151ab",
     "kind": "code",
     "language": "julia"
    }
   },
   "outputs": [],
   "source": [
    "println(sol.t[10], \",\", sol[10])"
   ]
  },
  {
   "attachments": {},
   "cell_type": "markdown",
   "metadata": {},
   "source": [
    "Additionally, the solution acts like a matrix where `sol[j,i]` is the value of the `j`th variable at time `i`:"
   ]
  },
  {
   "cell_type": "code",
   "execution_count": null,
   "metadata": {
    "nextjournal": {
     "id": "a1e63828-bfb6-44d1-b233-f952763c45ab",
     "kind": "code",
     "language": "julia"
    }
   },
   "outputs": [],
   "source": [
    "sol[2,10]"
   ]
  },
  {
   "attachments": {},
   "cell_type": "markdown",
   "metadata": {},
   "source": [
    "We can get a real matrix by performing a conversion:"
   ]
  },
  {
   "cell_type": "code",
   "execution_count": null,
   "metadata": {
    "nextjournal": {
     "id": "202e10cf-4c03-4d52-9b84-b0d090bd6edf",
     "kind": "code",
     "language": "julia"
    }
   },
   "outputs": [],
   "source": [
    "A = Array(sol)"
   ]
  },
  {
   "attachments": {},
   "cell_type": "markdown",
   "metadata": {},
   "source": [
    "This is the same as sol, i.e. `sol[i,j] = A[i,j]`, but now it's a true matrix. Plotting will by default show the time series for each variable:"
   ]
  },
  {
   "cell_type": "code",
   "execution_count": null,
   "metadata": {
    "nextjournal": {
     "id": "3997b0e7-d9aa-4414-a1ab-214a4eb03e6b",
     "kind": "code",
     "language": "julia"
    }
   },
   "outputs": [],
   "source": [
    "plot(sol)"
   ]
  },
  {
   "attachments": {},
   "cell_type": "markdown",
   "metadata": {},
   "source": [
    "If we instead want to plot values against each other, we can use the `vars` command. Let's plot variable `1` against variable `2` against variable `3`:"
   ]
  },
  {
   "cell_type": "code",
   "execution_count": null,
   "metadata": {
    "nextjournal": {
     "id": "788b86c9-9276-48cd-aa69-dab567809a79",
     "kind": "code",
     "language": "julia"
    }
   },
   "outputs": [],
   "source": [
    "plot(sol,vars=(1,2,3), lw=1)"
   ]
  },
  {
   "attachments": {},
   "cell_type": "markdown",
   "metadata": {},
   "source": [
    "This is the classic Lorenz attractor plot, where the `x` axis is `u[1]`, the `y` axis is `u[2]`, and the `z` axis is `u[3]`. Note that the plot recipe by default uses the interpolation, but we can turn this off:"
   ]
  },
  {
   "cell_type": "code",
   "execution_count": null,
   "metadata": {
    "nextjournal": {
     "id": "34001fb9-10eb-4c6a-b179-6db0d91e50c8",
     "kind": "code",
     "language": "julia"
    }
   },
   "outputs": [],
   "source": [
    "plot(sol,vars=(1,2,3),denseplot=false)"
   ]
  },
  {
   "attachments": {},
   "cell_type": "markdown",
   "metadata": {},
   "source": [
    "## Cancer modelling"
   ]
  },
  {
   "attachments": {},
   "cell_type": "markdown",
   "metadata": {},
   "source": [
    "The use of Ordinary Differential Equations (ODEs) in cancer modelling has its roots in the broader application of mathematical models in biology and medicine, which began in earnest in the early 20th century. One of the early applications of ODEs was in population dynamics, a field that shares many conceptual similarities with the study of cellular populations in cancer.\n",
    "\n",
    "The advent of the \"Cancer by Numbers\" concept by Laird in the 1960s (https://www.ncbi.nlm.nih.gov/pmc/articles/PMC2071101/pdf/brjcancer00492-0080.pdf) brought mathematical modelling into the field of cancer research. The mathematical models then were simple, but they laid the groundwork for more complex models. Laird's work used probability and simple mathematical models to explore cancer cell growth, survival, and mutation.\n",
    "\n",
    "In the 1970s and 1980s, more complex ODE models began to appear. These models incorporated elements such as the cell cycle, the immune response, and the effects of chemotherapy. They began to portray cancer as a complex system, rather than a simple process of unchecked cell growth.\n",
    "\n",
    "Since the turn of the 21st century, the development and application of ODE models in cancer research has exploded. This has been driven by several factors, including advances in computational power, the increasing availability of detailed biological data, and the recognition of the potential of mathematical models to improve our understanding of cancer and our ability to treat it.\n",
    "\n",
    "Despite these advances, ODE modelling of cancer remains a very active field of research. Current challenges include the integration of multiscale models, which attempt to describe cancer from the molecular level up to the level of the whole organism, and the use of models to guide personalized treatment strategies."
   ]
  },
  {
   "attachments": {},
   "cell_type": "markdown",
   "metadata": {},
   "source": [
    "# Classical Cancer Growth Models\n",
    "\n",
    "## 1. Gompertzian Growth Model\n",
    "\n",
    "The **Gompertzian growth model** is an exponential model of growth that was originally designed to describe human mortality rates but has been adapted to model tumour growth. In this model, the rate of tumour growth is fastest when the tumour is small, and slows as the tumour reaches its carrying capacity.\n",
    "\n",
    "The Ordinary Differential Equation (ODE) for the Gompertzian growth model is:\n",
    "\n",
    "$dc/dt = r * log(K/c) * c$\n",
    "\n",
    "Where:\n",
    "\n",
    "- `c` is the volume of cancer cells\n",
    "- `t` is time\n",
    "- `r` is the growth rate\n",
    "- `K` is the carrying capacity of the environment\n",
    "\n",
    "## 2. Logistic Growth Model\n",
    "\n",
    "The **Logistic growth model** is a model of population growth where the growth rate decreases as the population nears its carrying capacity. This model assumes a symmetric growth pattern and is simpler than the Gompertzian model.\n",
    "\n",
    "The ODE for the Logistic growth model is:\n",
    "\n",
    "$dc/dt = r * c * (1 - c/K)$\n",
    "\n",
    "In this equation, the parameters are the same as in the Gompertzian model.\n",
    "\n",
    "## 3. von Bertalanffy Growth Model\n",
    "\n",
    "The **von Bertalanffy growth model** was originally proposed to describe the growth of fish, but has been applied to cancer growth as well. It assumes that the rate of tumour growth is proportional to the two-thirds power of its size, reflecting the belief that the growth rate is determined by the surface area of the tumour rather than its volume.\n",
    "\n",
    "The ODE for the von Bertalanffy growth model is:\n",
    "\n",
    "$dc/dt = r * c^{2/3} - m * c$\n",
    "\n",
    "Where:\n",
    "\n",
    "- `r` is the growth constant\n",
    "- `c` is the volume of cancer cells\n",
    "- `m` is the mortality rate\n",
    "- `t` is time\n",
    "\n",
    "These models are all simplifications of the complex biological processes involved in cancer growth, but each can provide useful insights under different circumstances. The choice of model depends on the specific characteristics of the cancer being studied, the available data, and the questions being asked.\n",
    "\n"
   ]
  },
  {
   "attachments": {},
   "cell_type": "markdown",
   "metadata": {},
   "source": [
    "Let's now implement these models in julia and solve them for the same parameter set..."
   ]
  },
  {
   "cell_type": "code",
   "execution_count": null,
   "metadata": {},
   "outputs": [],
   "source": [
    "r = 0.1 # growth rate\n",
    "K = 1.0 # carrying capacity\n",
    "c0 = 0.01 # initial condition\n",
    "\n",
    "gompertzian(u,p,t) = r * log(K/u) * u\n",
    "\n",
    "tspan = (0.0, 100.0)\n",
    "prob = ODEProblem(gompertzian, c0, tspan)\n",
    "sol1 = solve(prob, Tsit5(), reltol=1e-8, abstol=1e-8)\n",
    "\n",
    "plot(sol1, ylabel=\"Volume of Cancer Cells\", xlabel=\"Time\", title=\"Gompertzian Growth Model\", legend=false)"
   ]
  },
  {
   "cell_type": "code",
   "execution_count": null,
   "metadata": {},
   "outputs": [],
   "source": [
    "r = 0.1 # growth rate\n",
    "K = 1.0 # carrying capacity\n",
    "c0 = 0.01 # initial condition\n",
    "\n",
    "logistic(u,p,t) = r * u * (1 - u/K)\n",
    "\n",
    "prob = ODEProblem(logistic, c0, tspan)\n",
    "sol2 = solve(prob, Tsit5(), reltol=1e-8, abstol=1e-8)\n",
    "\n",
    "plot(sol2, ylabel=\"Volume of Cancer Cells\", xlabel=\"Time\", title=\"Logistic Growth Model\", legend=false)\n"
   ]
  },
  {
   "cell_type": "code",
   "execution_count": null,
   "metadata": {},
   "outputs": [],
   "source": [
    "r = 0.1 # growth constant\n",
    "m = 0.01 # mortality rate\n",
    "c0 = 0.01 # initial condition\n",
    "\n",
    "von_bertalanffy(u,p,t) = r * u^(2/3) - m * u\n",
    "\n",
    "prob = ODEProblem(von_bertalanffy, c0, tspan)\n",
    "sol3 = solve(prob, Tsit5(), reltol=1e-8, abstol=1e-8)\n",
    "\n",
    "plot(sol3, ylabel=\"Volume of Cancer Cells\", xlabel=\"Time\", title=\"Von Bertalanffy Growth Model\", legend=false)\n"
   ]
  },
  {
   "attachments": {},
   "cell_type": "markdown",
   "metadata": {},
   "source": [
    "Do you think the dynamics are similar? Perhaps easier to see if we plot them on the same plot with the y-axis on the log-scale"
   ]
  },
  {
   "cell_type": "code",
   "execution_count": null,
   "metadata": {},
   "outputs": [],
   "source": [
    "plot(sol1,yscale=:log10,label=\"Logistic growth\",xlabel=\"Time\",ylabel=\"Volume of Cancer Cells\")\n",
    "plot!(sol2,label=\"Logistic growth\",xlabel=\"Time\",ylabel=\"Volume of Cancer Cells\")\n",
    "plot!(sol3,label=\"Von Bertanlanffy\",xlabel=\"Time\",ylabel=\"Volume of Cancer Cells\")"
   ]
  },
  {
   "attachments": {},
   "cell_type": "markdown",
   "metadata": {},
   "source": [
    "If we use the same parameters for all three models (Gompertzian, Logistic, and von Bertalanffy), we can observe some general characteristics about their dynamics:\n",
    "\n",
    "Logistic Growth Model: This model starts with exponential growth which then slows down and asymptotically approaches the carrying capacity, K. The growth is symmetric, meaning the rate of growth is the same up to the inflection point as it is beyond that.\n",
    "\n",
    "Gompertzian Growth Model: The Gompertzian model also exhibits a sigmoidal growth pattern similar to the logistic model, but its growth is not symmetric. The growth slows down more rapidly than in the logistic model, and the growth rate continually declines as the population size approaches the carrying capacity, K. This model might better reflect tumour growth in some cases, as it captures the observation that tumours often slow down their growth rate as they increase in size.\n",
    "\n",
    "von Bertalanffy Growth Model: The von Bertalanffy model, like the Gompertzian, also assumes that the growth rate declines as the population increases. But unlike the other two models, the von Bertalanffy model's rate of growth is proportional to the two-thirds power of its size. This can make the von Bertalanffy model more accurate for systems where growth is more influenced by the surface area (which generally scales with the 2/3 power of volume) than by the volume itself.\n",
    "\n",
    "All three models will show that growth initially starts rapidly and then slows as it approaches the carrying capacity. However, the rate at which growth slows and the symmetry of the growth curve can vary between the models. Remember, these models are simplifications of the complex biological processes involved in cancer growth. The best model to use will depend on the specific characteristics of the tumour, the available data, and the questions being asked in the research study."
   ]
  },
  {
   "attachments": {},
   "cell_type": "markdown",
   "metadata": {},
   "source": [
    "Given the below data, try fitting each of the models analytic solution using LsqFit (which we encountered in the first covid-19 modelling notebook) and compute the Akaike information criterion or Bayesian information criterion for each model. Try to figure out which of the three models is best at capturing the data!"
   ]
  },
  {
   "cell_type": "code",
   "execution_count": null,
   "metadata": {},
   "outputs": [],
   "source": [
    "tumour_data = [0.004271329261712347,0.012090299258236367,0.06047945122837756,0.07955439331530145,0.13488275672591388\n",
    ",0.1794705672612774,0.24403857722753283,0.3281076427474533,0.4019987281192025,0.4659433690807729,0.5372763041777083]\n",
    "tdata = collect(0.0:2.0:20.0)"
   ]
  },
  {
   "attachments": {},
   "cell_type": "markdown",
   "metadata": {},
   "source": [
    "Hint: Use the following analytic solutions and look up Akaike Information Criterion and Bayesian information criterion..."
   ]
  },
  {
   "cell_type": "code",
   "execution_count": null,
   "metadata": {},
   "outputs": [],
   "source": [
    "using LsqFit\n",
    "\n",
    "# models in the form expected by LsqFit.curve_fit\n",
    "model_logistic(t,p) = p[1] .* exp.(p[2] .* t) ./ (1 .+ p[1] .* (exp.(p[2] .* t) .- 1) ./ p[3])\n",
    "model_gompertzian(t,p) = p[3] .* exp.(log(p[1] ./ p[3]) .* exp.(-p[2] .* t))\n",
    "model_vonbertalanffy(t,p) = abs(p[2]) .* (1.0 .- exp.(-abs(p[1]) .* t)) .^ (2.0/3.0)\n",
    "\n",
    "# initial guess\n",
    "p0 = [c0, r, K]\n",
    "p1 = [r, K]\n",
    "# fit the models\n",
    "fit_logistic = curve_fit(model_logistic, tdata, tumour_data, p0)\n",
    "fit_gompertzian = curve_fit(model_gompertzian, tdata, tumour_data, p0)\n",
    "fit_vonbertalanffy = curve_fit(model_vonbertalanffy, tdata, tumour_data, p1)\n",
    "\n",
    "# residuals (RSS)\n",
    "resid_logistic = sum(abs2, fit_logistic.resid)\n",
    "resid_gompertzian = sum(abs2, fit_gompertzian.resid)\n",
    "resid_vonbertalanffy = sum(abs2, fit_vonbertalanffy.resid)"
   ]
  }
 ],
 "metadata": {
  "kernelspec": {
   "display_name": "Julia 1.10.3",
   "language": "julia",
   "name": "julia-1.10"
  },
  "language_info": {
   "file_extension": ".jl",
   "mimetype": "application/julia",
   "name": "julia",
   "version": "1.10.3"
  },
  "nextjournal": {
   "nodes-edn": "{\"b78ab0c2-de18-491f-9d12-70b3b5bbbb3e\" {:output-log nil, :content \"@benchmark solve(prob,Tsit5(),save_everystep=false)\", :refs (), :output-log-lines {}, :language \"julia\", :id \"b78ab0c2-de18-491f-9d12-70b3b5bbbb3e\", :compute-ref #uuid \"6de938cb-dc4d-4f44-8b8e-986ee66747c2\", :runtime [:runtime \"971bdb96-41c8-47ae-8b76-fba43c126396\"], :kind \"code\", :error nil, :exec-duration 13614}, \"3997b0e7-d9aa-4414-a1ab-214a4eb03e6b\" {:output-log nil, :content \"plot(sol)\", :refs (), :output-log-lines {}, :language \"julia\", :id \"3997b0e7-d9aa-4414-a1ab-214a4eb03e6b\", :compute-ref #uuid \"e9c7841e-19e2-409b-bd1a-032b396afa2c\", :runtime [:runtime \"971bdb96-41c8-47ae-8b76-fba43c126396\"], :kind \"code\", :error nil, :exec-duration 1903}, \"6d2f1ced-42d6-4922-bf98-79740b3e39e4\" {:content \"de = ODESystem(eqs)\\nlorenz = ODEFunction(de, [x,y,z], [σ,ρ,β])\", :refs (), :output-log-lines {}, :language \"julia\", :id \"6d2f1ced-42d6-4922-bf98-79740b3e39e4\", :compute-ref #uuid \"b08b017c-a9be-4a58-b695-8fdfcb134654\", :runtime [:runtime \"971bdb96-41c8-47ae-8b76-fba43c126396\"], :kind \"code\", :error nil, :exec-duration 18709}, \"c9310608-cbb9-49c3-9a02-08ff5e09da02\" {:content \"# Signature of affect! function\\nfunction affect!(integrator)\\n    integrator.u[2] = -integrator.p[2] * integrator.u[2]\\nend\", :refs (), :output-log-lines {}, :language \"julia\", :id \"c9310608-cbb9-49c3-9a02-08ff5e09da02\", :compute-ref #uuid \"bfef116a-6fd1-47b4-8fb4-11bd75d01d71\", :runtime [:runtime \"971bdb96-41c8-47ae-8b76-fba43c126396\"], :kind \"code\", :error nil, :exec-duration 385}, \"c4b14ec9-7a10-410d-afc7-d1a97dd6c90d\" {:content \"plot(sol,vars=(1,2,3),plotdensity=100)\", :refs (), :output-log-lines {}, :language \"julia\", :id \"c4b14ec9-7a10-410d-afc7-d1a97dd6c90d\", :compute-ref #uuid \"c43de64d-d881-4c9b-b9bc-83d32172f1a5\", :runtime [:runtime \"971bdb96-41c8-47ae-8b76-fba43c126396\"], :kind \"code\", :error nil, :exec-duration 1412}, \"ef9c410a-5ca4-4ea9-9670-dea043b1f91c\" {:output-log nil, :content \"f(u,p,t) = 0.98u\", :refs (), :output-log-lines {}, :language \"julia\", :id \"ef9c410a-5ca4-4ea9-9670-dea043b1f91c\", :compute-ref #uuid \"cd471e34-1926-47ed-9b33-ecd7a6e69f5f\", :runtime [:runtime \"971bdb96-41c8-47ae-8b76-fba43c126396\"], :kind \"code\", :error nil, :exec-duration 744}, \"daa94cba-0610-4d06-ad83-f964609f9b68\" {:content \"using Pkg\\npkg\\\"add ParameterizedFunctions\\\"\", :refs (), :output-log-lines {:stdout 5}, :language \"julia\", :id \"daa94cba-0610-4d06-ad83-f964609f9b68\", :compute-ref #uuid \"822afc93-62b4-4b6d-bcc2-12747a851c90\", :runtime [:runtime \"971bdb96-41c8-47ae-8b76-fba43c126396\"], :kind \"code\", :error nil, :exec-duration 2324}, \"4ee872a0-303d-4310-a926-f20723234fbc\" {:content \"sol = solve(prob,callback=terminate_cb)\\nplot(sol)\", :refs (), :output-log-lines {}, :language \"julia\", :id \"4ee872a0-303d-4310-a926-f20723234fbc\", :compute-ref #uuid \"fd26bca8-c296-4cf4-b8f1-a1af3ba8dc97\", :runtime [:runtime \"971bdb96-41c8-47ae-8b76-fba43c126396\"], :kind \"code\", :error nil, :exec-duration 6865}, \"57308561-c8f7-437d-a0dd-feb57c327612\" {:content \"# scatter(sol,vars=[:x])\", :refs (), :output-log-lines {}, :language \"julia\", :id \"57308561-c8f7-437d-a0dd-feb57c327612\", :compute-ref #uuid \"7098e8ec-9cca-4ed1-95fb-ad9a04333929\", :runtime [:runtime \"971bdb96-41c8-47ae-8b76-fba43c126396\"], :kind \"code\", :error nil, :exec-duration 107}, \"aa1a9a59-0889-44d8-9f5a-ca1250d9e711\" {:content \"using LinearAlgebra\\ncb = SavingCallback((u,t,integrator)->(tr(u),norm(u)), saved_values)\", :refs (), :output-log-lines {}, :language \"julia\", :id \"aa1a9a59-0889-44d8-9f5a-ca1250d9e711\", :compute-ref #uuid \"b125376f-d1ba-4f74-ab91-44e56aa095ad\", :runtime [:runtime \"971bdb96-41c8-47ae-8b76-fba43c126396\"], :kind \"code\", :error nil, :exec-duration 478}, \"c4d1f8f2-3f4e-4518-95d3-9fdea67bfe8f\" {:content \"test8!(D,A,B,C) = map!((a,b,c)->a+b+c,D,A,B,C)\\n@benchmark test8!(D,A,B,C)\", :refs (), :output-log-lines {}, :language \"julia\", :id \"c4d1f8f2-3f4e-4518-95d3-9fdea67bfe8f\", :compute-ref #uuid \"17a70a05-c1cf-4334-9304-278d46e1da7c\", :runtime [:runtime \"971bdb96-41c8-47ae-8b76-fba43c126396\"], :kind \"code\", :error nil, :exec-duration 13647}, \"93f9d238-f33d-4408-a960-b22d96cdf9de\" {:output-log nil, :content \"sol.u\", :refs (), :output-log-lines {}, :language \"julia\", :id \"93f9d238-f33d-4408-a960-b22d96cdf9de\", :compute-ref #uuid \"d4bb6c07-72eb-4916-bcc2-f32f5cd50bdb\", :runtime [:runtime \"971bdb96-41c8-47ae-8b76-fba43c126396\"], :kind \"code\", :error nil, :exec-duration 133}, \"b0c80472-cb5c-40af-bb86-4971380472c1\" {:content \"# Signature of condition function\\nfunction condition(u, t, integrator)\\n  u[1]\\nend\", :refs (), :output-log-lines {}, :language \"julia\", :id \"b0c80472-cb5c-40af-bb86-4971380472c1\", :compute-ref #uuid \"fbb529bc-c609-4ecf-ae31-91f216c6bc50\", :runtime [:runtime \"971bdb96-41c8-47ae-8b76-fba43c126396\"], :kind \"code\", :error nil, :exec-duration 362}, \"1f36c8b0-d016-4388-b074-2bdf2e858de7\" {:content \"saved_values.t\", :refs (), :output-log-lines {}, :language \"julia\", :id \"1f36c8b0-d016-4388-b074-2bdf2e858de7\", :compute-ref #uuid \"6732ddef-b96f-43f5-ac7d-a18602bd3569\", :runtime [:runtime \"971bdb96-41c8-47ae-8b76-fba43c126396\"], :kind \"code\", :error nil, :exec-duration 319}, \"a299f900-c836-4eb1-b0e6-6e66b3d8c570\" {:content \"saved_values.t\", :refs (), :output-log-lines {}, :language \"julia\", :id \"a299f900-c836-4eb1-b0e6-6e66b3d8c570\", :compute-ref #uuid \"cabc770d-a5b1-4230-ba2f-38296d86b2a1\", :runtime [:runtime \"971bdb96-41c8-47ae-8b76-fba43c126396\"], :kind \"code\", :error nil, :exec-duration 109}, \"ab24189a-e194-4bb3-ae8e-682b960824b1\" {:output-log nil, :content \"generate_function(de, [x,y,z], [σ,ρ,β])\", :refs (), :output-log-lines {}, :language \"julia\", :id \"ab24189a-e194-4bb3-ae8e-682b960824b1\", :compute-ref #uuid \"4f4abd86-5f14-4ebe-82de-f65126eaa199\", :runtime [:runtime \"971bdb96-41c8-47ae-8b76-fba43c126396\"], :kind \"code\", :error nil, :exec-duration 769}, \"ab1c8413-72b9-40de-9b6f-6530fd204f19\" {:content \"# Generate the constants\\np = (1.0,1.0,1.0,10.0,0.001,100.0) # a,α,ubar,β,D1,D2\\nN = 100\\nAx = Array(Tridiagonal([1.0 for i in 1:N-1],[-2.0 for i in 1:N],[1.0 for i in 1:N-1]))\\nAy = copy(Ax)\\nAx[2,1] = 2.0\\nAx[end-1,end] = 2.0\\nAy[1,2] = 2.0\\nAy[end,end-1] = 2.0\\n\\nfunction basic_version!(dr,r,p,t)\\n  a,α,ubar,β,D1,D2 = p\\n  u = r[:,:,1]\\n  v = r[:,:,2]\\n  Du = D1*(Ay*u + u*Ax)\\n  Dv = D2*(Ay*v + v*Ax)\\n  dr[:,:,1] = Du .+ a.*u.*u./v .+ ubar .- α*u\\n  dr[:,:,2] = Dv .+ a.*u.*u .- β*v\\nend\\n\\na,α,ubar,β,D1,D2 = p\\nuss = (ubar+β)/α\\nvss = (a/β)*uss^2\\nr0 = zeros(100,100,2)\\nr0[:,:,1] .= uss.+0.1.*rand.()\\nr0[:,:,2] .= vss\\n\\nprob = ODEProblem(basic_version!,r0,(0.0,0.1),p)\", :refs (), :output-log-lines {}, :language \"julia\", :id \"ab1c8413-72b9-40de-9b6f-6530fd204f19\", :compute-ref #uuid \"7bac12b0-9fc3-427c-b41f-e231e52fe1af\", :runtime [:runtime \"971bdb96-41c8-47ae-8b76-fba43c126396\"], :kind \"code\", :error nil, :exec-duration 2098}, \"5bd8a66c-c764-4cc3-a83b-2c2595fb4693\" {:output-log nil, :content \"prob = ODEProblem(fast_gm!,r0,(0.0,500.0),p)\\n@benchmark solve(prob,CVODE_BDF(linear_solver=:GMRES),save_everystep=false)\", :refs (), :output-log-lines {}, :language \"julia\", :id \"5bd8a66c-c764-4cc3-a83b-2c2595fb4693\", :compute-ref #uuid \"98629a21-11a3-4bc4-ab97-3987932f1669\", :runtime [:runtime \"971bdb96-41c8-47ae-8b76-fba43c126396\"], :kind \"code\", :error nil, :exec-duration 31884}, \"8de7e698-17d6-4df0-9b76-7bdb98423934\" {:content \"cb = CallbackSet(bounce_cb,kick_cb)\", :refs (), :output-log-lines {}, :language \"julia\", :id \"8de7e698-17d6-4df0-9b76-7bdb98423934\", :compute-ref #uuid \"78a676fe-858a-479b-93b9-33a0aa311412\", :runtime [:runtime \"971bdb96-41c8-47ae-8b76-fba43c126396\"], :kind \"code\", :error nil, :exec-duration 490}, \"0d292405-b00a-4e02-95a7-36ea579f844a\" {:output-log nil, :content \"using StaticArrays\\nA = @SVector [2.0,3.0,5.0]\", :refs (), :output-log-lines {}, :language \"julia\", :id \"0d292405-b00a-4e02-95a7-36ea579f844a\", :compute-ref #uuid \"70d0b3a5-641e-474a-91ef-0aeb0ff57d3e\", :runtime [:runtime \"971bdb96-41c8-47ae-8b76-fba43c126396\"], :kind \"code\", :error nil, :exec-duration 1120}, \"7070bcb3-935d-432f-9200-732c7c89605c\" {:output-log nil, :content \"function lorenz2!(du,u,p,t)\\n du[1] = 10.0*(u[2]-u[1])\\n du[2] = u[1]*(28.0-u[3]) - u[2]\\n du[3] = u[1]*u[2] - (8/3)*u[3]\\nend\", :refs (), :output-log-lines {}, :language \"julia\", :id \"7070bcb3-935d-432f-9200-732c7c89605c\", :compute-ref #uuid \"e59eff54-800c-400e-973e-1958ace61a20\", :runtime [:runtime \"971bdb96-41c8-47ae-8b76-fba43c126396\"], :kind \"code\", :error nil, :exec-duration 366}, \"b33ec60a-b888-4b3d-841a-1f4310321d42\" {:content \"function lorenz2(u,p,t)\\n   dx = 10.0*(u[2]-u[1])\\n   dy = u[1]*(28.0-u[3]) - u[2]\\n   dz = u[1]*u[2] - (8/3)*u[3]\\n   [dx,dy,dz]\\nend\", :refs (), :output-log-lines {}, :language \"julia\", :id \"b33ec60a-b888-4b3d-841a-1f4310321d42\", :compute-ref #uuid \"a1b0e9e0-f72d-4e31-984f-03d587488177\", :runtime [:runtime \"971bdb96-41c8-47ae-8b76-fba43c126396\"], :kind \"code\", :error nil, :exec-duration 477}, \"032f62b5-6b1b-492e-97ee-33c6efa49667\" {:content \"u0 = [50.0,0.0]\\ntspan = (0.0,15.0)\\np = (9.8,0.9)\\nprob = ODEProblem(ball!,u0,tspan,p,callback=cb)\\nsol = solve(prob,Tsit5(),tstops=[2.0])\\nplot(sol)\", :refs (), :output-log-lines {}, :language \"julia\", :id \"032f62b5-6b1b-492e-97ee-33c6efa49667\", :compute-ref #uuid \"282e25d8-7e35-49f7-9a58-dac467f66768\", :runtime [:runtime \"971bdb96-41c8-47ae-8b76-fba43c126396\"], :kind \"code\", :error nil, :exec-duration 3785}, \"fc7f5a9c-0337-423c-bcd2-43c035e5cfcc\" {:output-log nil, :content \"using StaticArrays\\nA  = @SMatrix [ 1.0  0.0 0.0 -5.0\\n                4.0 -2.0 4.0 -3.0\\n               -4.0  0.0 0.0  1.0\\n                5.0 -2.0 2.0  3.0]\\nu0 = @SMatrix rand(4,2)\\ntspan = (0.0,1.0)\\nf(u,p,t) = A*u\\nprob = ODEProblem(f,u0,tspan)\\nsol = solve(prob)\", :refs (), :output-log-lines {}, :language \"julia\", :id \"fc7f5a9c-0337-423c-bcd2-43c035e5cfcc\", :compute-ref #uuid \"25f41bbc-dd17-4926-b14c-f246705465eb\", :runtime [:runtime \"971bdb96-41c8-47ae-8b76-fba43c126396\"], :kind \"code\", :error nil, :exec-duration 14992}, \"3ee791fd-2e53-4e65-9def-cefc1311a738\" {:content \"sol.t[end]\", :refs (), :output-log-lines {}, :language \"julia\", :id \"3ee791fd-2e53-4e65-9def-cefc1311a738\", :compute-ref #uuid \"f736269e-09ff-474d-8e58-fb8c9b440441\", :runtime [:runtime \"971bdb96-41c8-47ae-8b76-fba43c126396\"], :kind \"code\", :error nil, :exec-duration 343}, \"9afa216c-f2d3-4504-9b81-bf35203a0765\" {:content \"using LinearAlgebra\\n@benchmark mul!(D,A,B) # same as D = A * B\", :refs (), :output-log-lines {}, :language \"julia\", :id \"9afa216c-f2d3-4504-9b81-bf35203a0765\", :compute-ref #uuid \"e0296ecb-9894-46ca-887e-7362b216d4b0\", :runtime [:runtime \"971bdb96-41c8-47ae-8b76-fba43c126396\"], :kind \"code\", :error nil, :exec-duration 14315}, \"738a00c8-6bac-433c-bed0-cccc0a78828b\" {:content \"plot(sol,vars=(1,2,3),denseplot=false)\", :refs (), :output-log-lines {}, :language \"julia\", :id \"738a00c8-6bac-433c-bed0-cccc0a78828b\", :compute-ref #uuid \"d02f3c0e-8c9f-49bd-9648-ce3eb8101d3d\", :runtime [:runtime \"971bdb96-41c8-47ae-8b76-fba43c126396\"], :kind \"code\", :error nil, :exec-duration 1344}, \"918b7b6e-4525-4ac9-a5c0-ed33438e4064\" {:content \"plot(sol,vars=(1,2,3))\", :refs (), :output-log-lines {}, :language \"julia\", :id \"918b7b6e-4525-4ac9-a5c0-ed33438e4064\", :compute-ref #uuid \"2a9d377f-5096-4349-a1c1-1db5dad32d25\", :runtime [:runtime \"971bdb96-41c8-47ae-8b76-fba43c126396\"], :kind \"code\", :error nil, :exec-duration 2781}, \"b5597b95-c443-45b5-ab57-32ce3b46f5f2\" {:output-log nil, :content \"sol = solve(prob, saveat=0.1)\", :refs (), :output-log-lines {}, :language \"julia\", :id \"b5597b95-c443-45b5-ab57-32ce3b46f5f2\", :compute-ref #uuid \"ad059274-9d4f-4daa-96e3-01968e571f65\", :runtime [:runtime \"971bdb96-41c8-47ae-8b76-fba43c126396\"], :kind \"code\", :error nil, :exec-duration 2550}, \"cf3e14e6-263a-4211-84e4-094fa58d0194\" {:content \"function terminate_affect!(integrator)\\n    terminate!(integrator)\\nend\", :refs (), :output-log-lines {}, :language \"julia\", :id \"cf3e14e6-263a-4211-84e4-094fa58d0194\", :compute-ref #uuid \"c9169ff5-e449-4cc3-9e7b-4640934de898\", :runtime [:runtime \"971bdb96-41c8-47ae-8b76-fba43c126396\"], :kind \"code\", :error nil, :exec-duration 386}, \"1db00696-2ea6-4d07-9e10-98cf6df78c59\" {:content \"sol = solve(prob,Tsit5())\\nusing Plots; gr()\\nplot(sol)\", :refs (), :output-log-lines {}, :language \"julia\", :id \"1db00696-2ea6-4d07-9e10-98cf6df78c59\", :compute-ref #uuid \"3905373f-536e-4504-a115-cf29d3772c8b\", :runtime [:runtime \"971bdb96-41c8-47ae-8b76-fba43c126396\"], :kind \"code\", :error nil, :exec-duration 5110}, \"f1cf27eb-704e-4006-876c-91d123416fdb\" {:content \"plot(sol,vars=(1, 2, 3))\", :refs (), :output-log-lines {}, :language \"julia\", :id \"f1cf27eb-704e-4006-876c-91d123416fdb\", :compute-ref #uuid \"434c1a45-f592-4a88-a65c-cfe0eabbebe9\", :runtime [:runtime \"971bdb96-41c8-47ae-8b76-fba43c126396\"], :kind \"code\", :error nil, :exec-duration 3925}, \"1ce7e004-033c-448c-ac85-6434dd9be6a3\" {:content \"prob = ODEProblem((du,u,p,t)->du.=u,rand(1000,1000),(0.0,1.0))\", :refs (), :output-log-lines {}, :language \"julia\", :id \"1ce7e004-033c-448c-ac85-6434dd9be6a3\", :compute-ref #uuid \"b2623016-a89a-4d29-b4e6-f6e65c2b94a4\", :runtime [:runtime \"971bdb96-41c8-47ae-8b76-fba43c126396\"], :kind \"code\", :error nil, :exec-duration 387}, \"594c9984-4b9b-4a60-b1dc-26f69a15345c\" {:output-log nil, :content \"p = (10,28,8/3) # we could also make this an array, or any other type!\", :refs (), :output-log-lines {}, :language \"julia\", :id \"594c9984-4b9b-4a60-b1dc-26f69a15345c\", :compute-ref #uuid \"8078ee8b-42b1-46f2-a16b-1082b5371998\", :runtime [:runtime \"971bdb96-41c8-47ae-8b76-fba43c126396\"], :kind \"code\", :error nil, :exec-duration 418}, \"473ee21d-325f-44aa-985e-64452277b369\" {:content \"u0 = @SVector [1.0,0.0,0.0]\\ntspan = (0.0,100.0)\\nprob = ODEProblem(lorenz_static,u0,tspan)\\n@benchmark solve(prob,Tsit5())\", :refs (), :output-log-lines {}, :language \"julia\", :id \"473ee21d-325f-44aa-985e-64452277b369\", :compute-ref #uuid \"cd5e059e-b8f6-4a28-9ff0-b403e187d0b8\", :runtime [:runtime \"971bdb96-41c8-47ae-8b76-fba43c126396\"], :kind \"code\", :error nil, :exec-duration 15979}, \"a0f13bf2-4481-414c-8bb6-586c779c63b7\" {:output-log nil, :content \"function gm2!(dr,r,p,t)\\n  a,α,ubar,β,D1,D2 = p\\n  u = @view r[:,:,1]\\n  v = @view r[:,:,2]\\n  du = @view dr[:,:,1]\\n  dv = @view dr[:,:,2]\\n  Du = D1*(Ay*u + u*Ax)\\n  Dv = D2*(Ay*v + v*Ax)\\n  @. du = Du + a.*u.*u./v + ubar - α*u\\n  @. dv = Dv + a.*u.*u - β*v\\nend\\nprob = ODEProblem(gm2!,r0,(0.0,0.1),p)\\n@benchmark solve(prob,Tsit5())\", :refs (), :output-log-lines {}, :language \"julia\", :id \"a0f13bf2-4481-414c-8bb6-586c779c63b7\", :compute-ref #uuid \"63dbae79-9b81-47d2-9644-29b827470a75\", :runtime [:runtime \"971bdb96-41c8-47ae-8b76-fba43c126396\"], :kind \"code\", :error nil, :exec-duration 22706}, \"34001fb9-10eb-4c6a-b179-6db0d91e50c8\" {:output-log nil, :content \"plot(sol,vars=(1,2,3),denseplot=false)\", :refs (), :output-log-lines {}, :language \"julia\", :id \"34001fb9-10eb-4c6a-b179-6db0d91e50c8\", :compute-ref #uuid \"d63c4969-b917-4766-9687-3a7fbf45c60c\", :runtime [:runtime \"971bdb96-41c8-47ae-8b76-fba43c126396\"], :kind \"code\", :error nil, :exec-duration 806}, \"c46dfac9-c995-4ec5-818d-2e2e42582d4e\" {:content \"plot(sol.t,[u[2]^2 + u[1]^2 for u in sol.u],legend=:topleft) # Energy ~ x^2 + v^2\", :refs (), :output-log-lines {}, :language \"julia\", :id \"c46dfac9-c995-4ec5-818d-2e2e42582d4e\", :compute-ref #uuid \"3b6af0cc-3048-4415-b1dd-3f4af8dc6421\", :runtime [:runtime \"971bdb96-41c8-47ae-8b76-fba43c126396\"], :kind \"code\", :error nil, :exec-duration 1375}, \"d46c2d9a-a30b-421b-9b00-625ac57ec29a\" {:output-log nil, :content \"using Pkg; Pkg.add(\\\"Sundials\\\")\\nusing Sundials\\n@benchmark solve(prob,CVODE_BDF(linear_solver=:GMRES))\", :refs (), :output-log-lines {:stdout 6}, :language \"julia\", :id \"d46c2d9a-a30b-421b-9b00-625ac57ec29a\", :compute-ref #uuid \"495d48cb-50b4-4af7-b0fb-db59c9eb31f1\", :runtime [:runtime \"971bdb96-41c8-47ae-8b76-fba43c126396\"], :kind \"code\", :error nil, :exec-duration 54800}, \"51f88e0c-59d8-4b65-bf84-2449aaae34ce\" {:output-log nil, :content \"A = rand(4)\\nprint(A)\\nB = @view A[1:3]\\nB[2] = 2\\nprint(A)\", :refs (), :output-log-lines {:stdout 1}, :language \"julia\", :id \"51f88e0c-59d8-4b65-bf84-2449aaae34ce\", :compute-ref #uuid \"6a8ed934-e9c6-4b27-9a25-7ab2df85e2b1\", :runtime [:runtime \"971bdb96-41c8-47ae-8b76-fba43c126396\"], :kind \"code\", :error nil, :exec-duration 320}, \"c78a2ac5-2a09-4b98-a108-f724db52f176\" {:content \"using DifferentialEquations, ParameterizedFunctions\\n\\nharmonic! = @ode_def HarmonicOscillator begin\\n   dv = -x\\n   dx = v\\nend\\n\\nu0 = [1.,0.]\\ntspan = (0.0,10.0)\\nprob = ODEProblem(harmonic!,u0,tspan)\\nsol = solve(prob)\\nplot(sol)\", :refs (), :output-log-lines {}, :language \"julia\", :id \"c78a2ac5-2a09-4b98-a108-f724db52f176\", :compute-ref #uuid \"a451fcf3-e01a-44e2-ba12-2cfdb2ef696c\", :runtime [:runtime \"971bdb96-41c8-47ae-8b76-fba43c126396\"], :kind \"code\", :error nil, :exec-duration 13510}, \"07fde268-2bc8-49e4-9593-957e5fa05afb\" {:output-log nil, :content \"sol(0.45)\", :refs (), :output-log-lines {}, :language \"julia\", :id \"07fde268-2bc8-49e4-9593-957e5fa05afb\", :compute-ref #uuid \"c892cb13-6367-48ad-b7f5-91426163d490\", :runtime [:runtime \"971bdb96-41c8-47ae-8b76-fba43c126396\"], :kind \"code\", :error nil, :exec-duration 564}, \"2eb3ab9a-c1ba-4db2-b6b7-df7519ddb541\" {:content \"plot(sol,linewidth=5,\\n     title=\\\"Solution to the linear ODE with a thick line\\\",\\n     xaxis=\\\"Time (t)\\\",yaxis=\\\"u(t) (in mm)\\\",label=[\\\"X\\\",\\\"Y\\\",\\\"Z\\\"])\", :refs (), :output-log-lines {}, :language \"julia\", :id \"2eb3ab9a-c1ba-4db2-b6b7-df7519ddb541\", :compute-ref #uuid \"ed1447b8-dffe-4603-9c88-7c41df49094e\", :runtime [:runtime \"971bdb96-41c8-47ae-8b76-fba43c126396\"], :kind \"code\", :error nil, :exec-duration 3516}, \"f6815373-fe71-469e-bbc4-217de3be489d\" {:content \"# Turn off normal saving\\nsol = solve(prob, Tsit5(), callback=cb, save_everystep=false, save_start=false, save_end = false) \", :refs (), :output-log-lines {}, :language \"julia\", :id \"f6815373-fe71-469e-bbc4-217de3be489d\", :compute-ref #uuid \"664c5123-d8e0-47dd-bdc1-48b3c9932de9\", :runtime [:runtime \"971bdb96-41c8-47ae-8b76-fba43c126396\"], :kind \"code\", :error nil, :exec-duration 10808}, \"1d2ae69c-cbc3-4995-9393-4aa510a4934e\" {:content \"plot(sol,vars=(1,2,3))\\nscatter!(sol,vars=(1,2,3),plotdensity=100)\", :refs (), :output-log-lines {}, :language \"julia\", :id \"1d2ae69c-cbc3-4995-9393-4aa510a4934e\", :compute-ref #uuid \"0220d0d9-c85a-458d-8c35-f55833f8cf9e\", :runtime [:runtime \"971bdb96-41c8-47ae-8b76-fba43c126396\"], :kind \"code\", :error nil, :exec-duration 5415}, \"4962fb43-5284-48a7-9ef6-00024fb8b7b6\" {:output-log nil, :content \"sol = solve(prob,saveat=[0.2,0.7,0.9])\", :refs (), :output-log-lines {}, :language \"julia\", :id \"4962fb43-5284-48a7-9ef6-00024fb8b7b6\", :compute-ref #uuid \"45cc45e2-de2b-4ae4-b6c6-bb8d4f6bafd4\", :runtime [:runtime \"971bdb96-41c8-47ae-8b76-fba43c126396\"], :kind \"code\", :error nil, :exec-duration 2474}, \"17cce547-f9a1-40bb-8560-3ffbabfc4d4c\" {:content \"sol = solve(prob,Tsit5(),tstops=[2.0])\\nplot(sol)\", :refs (), :output-log-lines {}, :language \"julia\", :id \"17cce547-f9a1-40bb-8560-3ffbabfc4d4c\", :compute-ref #uuid \"2d08bbb3-ddf4-445b-b0bb-c07197f4de53\", :runtime [:runtime \"971bdb96-41c8-47ae-8b76-fba43c126396\"], :kind \"code\", :error nil, :exec-duration 3390}, \"06bb6cd1-1d62-4241-a93e-7771f79da989\" {:content \"saved_values.saveval\", :refs (), :output-log-lines {}, :language \"julia\", :id \"06bb6cd1-1d62-4241-a93e-7771f79da989\", :compute-ref #uuid \"4d2aa7ff-16eb-48b3-a0d5-e6deb192d6ce\", :runtime [:runtime \"971bdb96-41c8-47ae-8b76-fba43c126396\"], :kind \"code\", :error nil, :exec-duration 134}, \"c00735f4-7398-4bf8-ab89-67ac1447fe6a\" {:content \"function condition_kick(u,t,integrator)\\n    t == 2\\nend\", :refs (), :output-log-lines {}, :language \"julia\", :id \"c00735f4-7398-4bf8-ab89-67ac1447fe6a\", :compute-ref #uuid \"b22eb1cf-5b40-4c00-b03b-85ae80350437\", :runtime [:runtime \"971bdb96-41c8-47ae-8b76-fba43c126396\"], :kind \"code\", :error nil, :exec-duration 345}, \"971bdb96-41c8-47ae-8b76-fba43c126396\" {:runtime/inherited-environment-variables ({:name \"NEXTJOURNAL_RUNTIME_SERVICE_URL\", :value \"https://nextjournal.com/runner/CGiAfcRNpELDxJT9SCAM4H/runtime/39e3f06d-60bf-4003-ae1a-62e835085aef\"} {:name \"GKSwstype\", :value \"svg\"} {:name \"DISPLAY\", :value \":0\"} {:name \"NJS_VERSION\", :value \"12.13.1\"} {:name \"PATH\", :value \"/usr/local/julia/bin:/opt/conda/bin:/opt/node/bin:/usr/local/nvidia/bin:/usr/local/cuda/bin:/usr/local/sbin:/usr/local/bin:/usr/sbin:/usr/bin:/sbin:/bin\"} {:name \"NVIDIA_VISIBLE_DEVICES\", :value \"void\"} {:name \"NVIDIA_DRIVER_CAPABILITIES\", :value \"all\"} {:name \"JULIA_PATH\", :value \"/usr/local/julia\"} {:name \"JULIA_VERSION\", :value \"1.3.1\"} {:name \"CONDA_JL_HOME\", :value \"/opt/conda\"} {:name \"NEXTJOURNAL_MOUNT_CUDA\", :value \"10.2-cudnn7-devel-ubuntu18.04\"} {:name \"BASH_ENV\", :value \"/.bash_profile\"} {:name \"LC_ALL\", :value \"en_US.UTF-8\"} {:name \"LANGUAGE\", :value \"en_US.en\"} {:name \"LANG\", :value \"en_US.UTF-8\"}), :name nil, :output-log-lines {:stdout 7}, :type :nextjournal, :language \"julia\", :id \"971bdb96-41c8-47ae-8b76-fba43c126396\", :compute-ref #uuid \"96bebc85-5689-4d2e-a592-25aaea851919\", :kind \"runtime\", :error {:message \"Julia process julia went out of memory. You can assign this runtime more memory in the runtime settings and shutdown and restart the runner.\"}, :environment [:environment {:article/nextjournal.id #uuid \"02fff9d6-84ca-4311-8633-cdb34fe0b0a8\", :change/nextjournal.id #uuid \"6075911c-0807-4a19-a78f-5059f0e9b058\", :node/id \"897fce0d-2441-42a4-849d-77247f9a724a\"}], :resources {:machine-type \"n1-standard-2\"}}, \"073796f5-41ad-4d04-9303-c45701bdf1c6\" {:content \"plot(sol,vars=(0,1),denseplot=false)\", :refs (), :output-log-lines {}, :language \"julia\", :id \"073796f5-41ad-4d04-9303-c45701bdf1c6\", :compute-ref #uuid \"20b3bb11-4335-409c-9c58-7b6069059775\", :runtime [:runtime \"971bdb96-41c8-47ae-8b76-fba43c126396\"], :kind \"code\", :error nil, :exec-duration 2089}, \"662050f3-02da-460b-ab59-6c192efef232\" {:output-log nil, :content \"prob = ODEProblem(f,big_u0,big.(tspan))\\nsol = solve(prob, atol=big(1e-12), rtol=big(1e-12))\", :refs (), :output-log-lines {}, :language \"julia\", :id \"662050f3-02da-460b-ab59-6c192efef232\", :compute-ref #uuid \"7ca89ea8-b810-4055-9939-67230975d8a2\", :runtime [:runtime \"971bdb96-41c8-47ae-8b76-fba43c126396\"], :kind \"code\", :error nil, :exec-duration 18649}, \"b1be0183-5b2e-4ab0-90f5-a60ea9ecec62\" {:output-log nil, :content \"Ayu = zeros(N,N)\\nuAx = zeros(N,N)\\nDu = zeros(N,N)\\nAyv = zeros(N,N)\\nvAx = zeros(N,N)\\nDv = zeros(N,N)\\nfunction gm3!(dr,r,p,t)\\n  a,α,ubar,β,D1,D2 = p\\n  u = @view r[:,:,1]\\n  v = @view r[:,:,2]\\n  du = @view dr[:,:,1]\\n  dv = @view dr[:,:,2]\\n  mul!(Ayu,Ay,u)\\n  mul!(uAx,u,Ax)\\n  mul!(Ayv,Ay,v)\\n  mul!(vAx,v,Ax)\\n  @. Du = D1*(Ayu + uAx)\\n  @. Dv = D2*(Ayv + vAx)\\n  @. du = Du + a*u*u./v + ubar - α*u\\n  @. dv = Dv + a*u*u - β*v\\nend\\nprob = ODEProblem(gm3!,r0,(0.0,0.1),p)\\n@benchmark solve(prob,Tsit5())\", :refs (), :output-log-lines {}, :language \"julia\", :id \"b1be0183-5b2e-4ab0-90f5-a60ea9ecec62\", :compute-ref #uuid \"b8628446-1358-4003-8a06-31f05434c531\", :runtime [:runtime \"971bdb96-41c8-47ae-8b76-fba43c126396\"], :kind \"code\", :error nil, :exec-duration 19435}, \"26846387-df04-4e53-baf6-62448b680ae3\" {:content \"test5(A,B,C) = @. A + B + C #only one array allocated\\n@benchmark test5(A,B,C)\", :refs (), :output-log-lines {}, :language \"julia\", :id \"26846387-df04-4e53-baf6-62448b680ae3\", :compute-ref #uuid \"4bb88870-9fed-49ae-9287-cd84da330fda\", :runtime [:runtime \"971bdb96-41c8-47ae-8b76-fba43c126396\"], :kind \"code\", :error nil, :exec-duration 13653}, \"ab76f13b-15a3-42af-b1e6-2be098caf127\" {:content \"u1,u2 = sol[500]\\nu2^2 + u1^2\", :refs (), :output-log-lines {}, :language \"julia\", :id \"ab76f13b-15a3-42af-b1e6-2be098caf127\", :compute-ref #uuid \"f99093b5-7577-402d-b461-4c92bdacd5e1\", :runtime [:runtime \"971bdb96-41c8-47ae-8b76-fba43c126396\"], :kind \"code\", :error nil, :exec-duration 163}, \"e032ebf7-95e1-4083-b61d-6e4118eb874e\" {:content \"using ModelingToolkit\\n\\n# Define some variables\\n# Same as t, σ, ρ, β = [Variable(s)(t; known=true) for s in [:t, :σ, :ρ, :β]]\\n@parameters t σ ρ β\\n# Same as x, y, z = [Variable(s)(t) for s in [:x, :y, :z]]\\n@variables x(t) y(t) z(t)\\n# Same as D = Differential(t)\\n@derivatives D'~t\\n\\n# Define equations (system of ODEs)\\neqs = [D(x) ~ σ*(y-x),\\n       D(y) ~ x*(ρ-z)-y,\\n       D(z) ~ x*y - β*z]\", :refs (), :output-log-lines {:stdout 4}, :language \"julia\", :id \"e032ebf7-95e1-4083-b61d-6e4118eb874e\", :compute-ref #uuid \"0e1fff95-48eb-4d7d-b212-14841d61183c\", :runtime [:runtime \"971bdb96-41c8-47ae-8b76-fba43c126396\"], :kind \"code\", :error nil, :exec-duration 14284}, \"6590c6ab-e2d7-460c-b2ec-4f7fe429b63e\" {:content \"terminate_upcrossing_cb = ContinuousCallback(terminate_condition,terminate_affect!,nothing)\\nsol = solve(prob,callback=terminate_upcrossing_cb)\\nplot(sol)\", :refs (), :output-log-lines {}, :language \"julia\", :id \"6590c6ab-e2d7-460c-b2ec-4f7fe429b63e\", :compute-ref #uuid \"7dc3fcef-b54d-4f20-ad8f-8e87201a08dd\", :runtime [:runtime \"971bdb96-41c8-47ae-8b76-fba43c126396\"], :kind \"code\", :error nil, :exec-duration 5418}, \"cde91636-90b5-43b1-80f1-c7cad2b3f9f3\" {:content \"saved_values = SavedValues(Float64, Tuple{Float64,Float64}) # New cache\\ncb = SavingCallback((u,t,integrator)->(tr(u),norm(u)), saved_values, saveat = 0.0:0.1:1.0)\\n# Turn off normal saving\\nsol = solve(prob, Tsit5(), callback=cb, save_everystep=false, save_start=false, save_end = false) \", :refs (), :output-log-lines {}, :language \"julia\", :id \"cde91636-90b5-43b1-80f1-c7cad2b3f9f3\", :compute-ref #uuid \"111bb556-d7ab-457e-9ff6-39129c98411f\", :runtime [:runtime \"971bdb96-41c8-47ae-8b76-fba43c126396\"], :kind \"code\", :error nil, :exec-duration 4052}, \"788b86c9-9276-48cd-aa69-dab567809a79\" {:output-log nil, :content \"plot(sol,vars=(1,2,3), lw=1)\", :refs (), :output-log-lines {}, :language \"julia\", :id \"788b86c9-9276-48cd-aa69-dab567809a79\", :compute-ref #uuid \"f5ede237-8c03-4d92-9f55-7c9489b03664\", :runtime [:runtime \"971bdb96-41c8-47ae-8b76-fba43c126396\"], :kind \"code\", :error nil, :exec-duration 2941}, \"c1ff05cf-c8db-49df-927c-5ce58a874aaf\" {:content \"D = zeros(1000,1000);\", :refs (), :output-log-lines {}, :language \"julia\", :id \"c1ff05cf-c8db-49df-927c-5ce58a874aaf\", :compute-ref #uuid \"53344532-f0c5-467c-9403-70c14568f516\", :runtime [:runtime \"971bdb96-41c8-47ae-8b76-fba43c126396\"], :kind \"code\", :error nil, :exec-duration 150}, \"34b651a0-4c46-45e5-858f-7fa43e420b3b\" {:output-log nil, :content \"@benchmark solve(prob,Tsit5(),save_everystep=false)\", :refs (), :output-log-lines {}, :language \"julia\", :id \"34b651a0-4c46-45e5-858f-7fa43e420b3b\", :compute-ref #uuid \"75a77452-3506-47dc-9564-71ec5ba2f0e6\", :runtime [:runtime \"971bdb96-41c8-47ae-8b76-fba43c126396\"], :kind \"code\", :error nil, :exec-duration 13491}, \"5e700fc4-5aec-4afd-a066-e9487490e286\" {:output-log nil, :content \"generate_jacobian(de)\", :refs (), :output-log-lines {}, :language \"julia\", :id \"5e700fc4-5aec-4afd-a066-e9487490e286\", :compute-ref #uuid \"d3aa32c0-6624-4ce2-9cc5-ac5375d8cb6f\", :runtime [:runtime \"971bdb96-41c8-47ae-8b76-fba43c126396\"], :kind \"code\", :error nil, :exec-duration 4714}, \"69faabf1-e168-41f4-abff-23db0f17de9b\" {:content \"function test3(A,B,C)\\n    D = similar(A)\\n    @inbounds for i in eachindex(A)\\n        D[i] = A[i] + B[i] + C[i]\\n    end\\n    D\\nend\\n@benchmark test3(A,B,C)\", :refs (), :output-log-lines {}, :language \"julia\", :id \"69faabf1-e168-41f4-abff-23db0f17de9b\", :compute-ref #uuid \"69bf8459-33e0-4ee9-8723-bf120fd28173\", :runtime [:runtime \"971bdb96-41c8-47ae-8b76-fba43c126396\"], :kind \"code\", :error nil, :exec-duration 13644}, \"4db3f60b-7b89-4c8f-ba81-f2fc37f2f47a\" {:output-log nil, :content \"plot(sol,vars=(0,2))\", :refs (), :output-log-lines {}, :language \"julia\", :id \"4db3f60b-7b89-4c8f-ba81-f2fc37f2f47a\", :compute-ref #uuid \"3977a410-ed95-485d-8eb8-9cf4b52cc814\", :runtime [:runtime \"971bdb96-41c8-47ae-8b76-fba43c126396\"], :kind \"code\", :error nil, :exec-duration 1391}, \"df2185ab-f9f4-4d0b-8722-f551d0c0523a\" {:output-log nil, :content \"u0 = [1.0;0.0;0.0]\\ntspan = (0.0,100.0)\\nprob = ODEProblem(lorenz2!,u0,tspan)\\n@benchmark solve(prob,Tsit5())\", :refs (), :output-log-lines {}, :language \"julia\", :id \"df2185ab-f9f4-4d0b-8722-f551d0c0523a\", :compute-ref #uuid \"842cc6a7-6cd9-40fc-8559-295b4bdbc159\", :runtime [:runtime \"971bdb96-41c8-47ae-8b76-fba43c126396\"], :kind \"code\", :error nil, :exec-duration 16376}, \"eb4db34b-bba4-403b-81d5-6235b5b9aae4\" {:content \"using DifferentialEquations, ModelingToolkit\\n\\n@parameters t μ\\n@variables x(t) y(t)\\n@derivatives D'~t\\n\\n# Define equations (system of ODEs)\\neqs = [D(x) ~ 1*y,\\n       D(y) ~ μ*((1-x^2)*y - x)]\\n# Convert it to a proper function\\nde = ODESystem(eqs)\\nvan = ODEFunction(de, [x,y], [μ])\\nprob = ODEProblem(van,[0.0,2.0],(0.0,6.3),1e6)\", :refs (), :output-log-lines {}, :language \"julia\", :id \"eb4db34b-bba4-403b-81d5-6235b5b9aae4\", :compute-ref #uuid \"01a4b055-ba7b-4dbe-b46d-2be68cfb9282\", :runtime [:runtime \"971bdb96-41c8-47ae-8b76-fba43c126396\"], :kind \"code\", :error nil, :exec-duration 2686}, \"0bd8dd38-a401-43d6-a102-cb5aec06920c\" {:content \"test6!(D,A,B,C) = D .= A .+ B .+ C #only one array allocated\\n@benchmark test6!(D,A,B,C)\", :refs (), :output-log-lines {}, :language \"julia\", :id \"0bd8dd38-a401-43d6-a102-cb5aec06920c\", :compute-ref #uuid \"657135d8-55bd-4006-8c75-319d668d5e5f\", :runtime [:runtime \"971bdb96-41c8-47ae-8b76-fba43c126396\"], :kind \"code\", :error nil, :exec-duration 13702}, \"136bbabe-e7f6-4ae8-a8b1-94126597da39\" {:output-log nil, :content \"@benchmark solve(prob,CVODE_BDF(linear_solver=:GMRES))\", :refs (), :output-log-lines {}, :language \"julia\", :id \"136bbabe-e7f6-4ae8-a8b1-94126597da39\", :compute-ref #uuid \"bd6db26d-57df-4845-a4f3-a747b9754873\", :runtime [:runtime \"971bdb96-41c8-47ae-8b76-fba43c126396\"], :kind \"code\", :error nil, :exec-duration 27795}, \"e0c454f4-ca01-4ce1-8593-a028f1a8247e\" {:content \"tspan = (0.0,10000.0)\\nprob = ODEProblem(harmonic!,u0,tspan)\\nsol = solve(prob)\\npyplot(fmt=:png) # Make it a PNG instead of an SVG since there's a lot of points!\\nplot(sol,vars=(1,2))\", :refs (), :output-log-lines {}, :language \"julia\", :id \"e0c454f4-ca01-4ce1-8593-a028f1a8247e\", :compute-ref #uuid \"f2c856e5-ebe2-4dac-9a8f-d8deb77a2a42\", :runtime [:runtime \"971bdb96-41c8-47ae-8b76-fba43c126396\"], :kind \"code\", :error nil, :exec-duration 57068}, \"62ed164e-0313-4ac2-9a00-6b76781d1b77\" {:content \"function affect_kick!(integrator)\\n    integrator.u[2] += 50\\nend\", :refs (), :output-log-lines {}, :language \"julia\", :id \"62ed164e-0313-4ac2-9a00-6b76781d1b77\", :compute-ref #uuid \"22ae62c7-f45e-4aa8-902b-dba61e787d25\", :runtime [:runtime \"971bdb96-41c8-47ae-8b76-fba43c126396\"], :kind \"code\", :error nil, :exec-duration 484}, \"a7c7d064-7d4b-4259-82d4-59f274bc2229\" {:content \"plot(sol,vars=(1,2,3),plotdensity=10000)\", :refs (), :output-log-lines {}, :language \"julia\", :id \"a7c7d064-7d4b-4259-82d4-59f274bc2229\", :compute-ref #uuid \"9738700e-169d-4762-9454-a8b89c1d211c\", :runtime [:runtime \"971bdb96-41c8-47ae-8b76-fba43c126396\"], :kind \"code\", :error nil, :exec-duration 2354}, \"af3dfc5c-7533-4ced-a4af-c02ccb3a5e5c\" {:content \"p = plot(sol,vars=(1,2,3))\\nscatter!(p,sol,vars=(1,2,3),plotdensity=100)\\ntitle!(\\\"I added a title\\\")\", :refs (), :output-log-lines {}, :language \"julia\", :id \"af3dfc5c-7533-4ced-a4af-c02ccb3a5e5c\", :compute-ref #uuid \"3d5621bc-80df-4885-aa6c-f04f5bc83352\", :runtime [:runtime \"971bdb96-41c8-47ae-8b76-fba43c126396\"], :kind \"code\", :error nil, :exec-duration 6264}, \"3e837f9e-ab98-44bf-8b6b-5567004d478f\" {:output-log nil, :content \"function lorenz!(du,u,p,t)\\n    σ,ρ,β = p\\n    du[1] = σ*(u[2]-u[1])\\n    du[2] = u[1]*(ρ-u[3]) - u[2]\\n    du[3] = u[1]*u[2] - β*u[3]\\nend\", :refs (), :output-log-lines {}, :language \"julia\", :id \"3e837f9e-ab98-44bf-8b6b-5567004d478f\", :compute-ref #uuid \"3916d5a3-7f75-4b60-a069-74c50f61d280\", :runtime [:runtime \"971bdb96-41c8-47ae-8b76-fba43c126396\"], :kind \"code\", :error nil, :exec-duration 405}, \"448ca298-6cd8-44ca-891a-57aaed15d9cb\" {:content \"function g2(resid,u,p,t)\\n  resid[1] = u[2]^2 + u[1]^2 - 1\\n  resid[2] = 0\\nend\", :refs (), :output-log-lines {}, :language \"julia\", :id \"448ca298-6cd8-44ca-891a-57aaed15d9cb\", :compute-ref #uuid \"1c162614-7b50-4693-bf48-a1747225bce9\", :runtime [:runtime \"971bdb96-41c8-47ae-8b76-fba43c126396\"], :kind \"code\", :error nil, :exec-duration 422}, \"54fb08a5-ec78-4a80-9e2d-dbe37cc61696\" {:output-log nil, :content \"tspan = (0.0,500.0) # 5x longer than before\\nprob = ODEProblem(lorenz2!,u0,tspan)\\n@benchmark solve(prob,Tsit5(),save_everystep=false)\", :refs (), :output-log-lines {}, :language \"julia\", :id \"54fb08a5-ec78-4a80-9e2d-dbe37cc61696\", :compute-ref #uuid \"c46e0072-a035-4f66-b2d0-7cc450070f49\", :runtime [:runtime \"971bdb96-41c8-47ae-8b76-fba43c126396\"], :kind \"code\", :error nil, :exec-duration 13518}, \"a1e63828-bfb6-44d1-b233-f952763c45ab\" {:output-log nil, :content \"sol[2,10]\", :refs (), :output-log-lines {}, :language \"julia\", :id \"a1e63828-bfb6-44d1-b233-f952763c45ab\", :compute-ref #uuid \"3a1a7d77-8dc2-4b9c-a40f-68f3eb75c5c2\", :runtime [:runtime \"971bdb96-41c8-47ae-8b76-fba43c126396\"], :kind \"code\", :error nil, :exec-duration 112}, \"bcf8d157-208c-4b59-8dac-95cbf0d1cd72\" {:content \"using DifferentialEquations, BenchmarkTools\\nu0 = [1.0;0.0;0.0]\\ntspan = (0.0,100.0)\\nprob = ODEProblem(lorenz2,u0,tspan)\\n@benchmark solve(prob,Tsit5())\", :refs (), :output-log-lines {}, :language \"julia\", :id \"bcf8d157-208c-4b59-8dac-95cbf0d1cd72\", :compute-ref #uuid \"b3562591-2032-461d-bdbf-bd53875d1506\", :runtime [:runtime \"971bdb96-41c8-47ae-8b76-fba43c126396\"], :kind \"code\", :error nil, :exec-duration 18915}, \"c3228eac-aa6a-4465-befe-ace5459a368e\" {:output-log nil, :content \"using DifferentialEquations, ModelingToolkit\\n\\n# Define some variables\\n@parameters t g\\n# Same as x, y, z = [Variable(s)(t) for s in [:x, :y, :z]]\\n@variables y(t) v(t)\\n# Same as D = Differential(t)\\n@derivatives D'~t\\n\\n# Define equations (system of ODEs)\\neqs = [D(y) ~ v,\\n       D(v) ~ -g]\\nde = ODESystem(eqs)\\nball! = ODEFunction(de, [y, v], [g])\", :refs (), :output-log-lines {}, :language \"julia\", :id \"c3228eac-aa6a-4465-befe-ace5459a368e\", :compute-ref #uuid \"866564a9-e997-4cb2-8266-3e157d69644c\", :runtime [:runtime \"971bdb96-41c8-47ae-8b76-fba43c126396\"], :kind \"code\", :error nil, :exec-duration 456}, \"c4564878-09fb-42f4-92c8-fc5327532015\" {:output-log nil, :content \"using Plots; gr()\\nplot(sol)\", :refs (), :output-log-lines {}, :language \"julia\", :id \"c4564878-09fb-42f4-92c8-fc5327532015\", :compute-ref #uuid \"8714ca4f-0103-4e89-941a-d623bca76ff4\", :runtime [:runtime \"971bdb96-41c8-47ae-8b76-fba43c126396\"], :kind \"code\", :error nil, :exec-duration 25474}, \"dbfcea5d-f69e-4bc6-b97c-5a192cb9961c\" {:output-log nil, :content \"sol = solve(prob,abstol=1e-8,reltol=1e-8)\", :refs (), :output-log-lines {}, :language \"julia\", :id \"dbfcea5d-f69e-4bc6-b97c-5a192cb9961c\", :compute-ref #uuid \"8573952e-5943-46ca-988f-44a73d59378e\", :runtime [:runtime \"971bdb96-41c8-47ae-8b76-fba43c126396\"], :kind \"code\", :error nil, :exec-duration 5671}, \"99790f7a-9a1f-4303-aff3-633833fdcbbe\" {:output-log nil, :content \"A  = [1. 0  0 -5\\n      4 -2  4 -3\\n     -4  0  0  1\\n      5 -2  2  3]\\nu0 = rand(4,2)\\ntspan = (0.0,1.0)\\nf(u,p,t) = A*u\\nprob = ODEProblem(f,u0,tspan)\\nsol = solve(prob)\", :refs (), :output-log-lines {}, :language \"julia\", :id \"99790f7a-9a1f-4303-aff3-633833fdcbbe\", :compute-ref #uuid \"3550c0b7-3579-4240-b657-51aa4e983c86\", :runtime [:runtime \"971bdb96-41c8-47ae-8b76-fba43c126396\"], :kind \"code\", :error nil, :exec-duration 11404}, \"e5213e4f-cd6e-4fd7-add0-e0c6e4b326c8\" {:content \"test4(A,B,C) = A .+ B .+ C\\n@benchmark test4(A,B,C)\", :refs (), :output-log-lines {}, :language \"julia\", :id \"e5213e4f-cd6e-4fd7-add0-e0c6e4b326c8\", :compute-ref #uuid \"58b38c7a-44ca-49ef-a087-dc2ebd9fc4b4\", :runtime [:runtime \"971bdb96-41c8-47ae-8b76-fba43c126396\"], :kind \"code\", :error nil, :exec-duration 13617}, \"68fd6026-abcd-4be6-8407-d2464a827cdc\" {:content \"sin.(A) .+ sin.(B)\", :refs (), :output-log-lines {}, :language \"julia\", :id \"68fd6026-abcd-4be6-8407-d2464a827cdc\", :compute-ref #uuid \"637923cf-3087-4ac4-8ece-8ffa6e37deb1\", :runtime [:runtime \"971bdb96-41c8-47ae-8b76-fba43c126396\"], :kind \"code\", :error nil, :exec-duration 781}, \"5f7d025b-b014-4f64-b44b-ebdbcaa80456\" {:output-log nil, :content \"big_u0 = big.(u0)\", :refs (), :output-log-lines {}, :language \"julia\", :id \"5f7d025b-b014-4f64-b44b-ebdbcaa80456\", :compute-ref #uuid \"49518eb7-9174-4714-a1e0-bc4aeef670e2\", :runtime [:runtime \"971bdb96-41c8-47ae-8b76-fba43c126396\"], :kind \"code\", :error nil, :exec-duration 1401}, \"2da5aaa5-1f1b-49ca-a77e-84d957a48e61\" {:output-log nil, :content \"prob = ODEProblem(fast_gm!,r0,(0.0,10.0),p)\\n@benchmark solve(prob,Tsit5())\", :refs (), :output-log-lines {}, :language \"julia\", :id \"2da5aaa5-1f1b-49ca-a77e-84d957a48e61\", :compute-ref #uuid \"4273ea65-aee3-48fc-a3b9-74af2b8051cb\", :runtime [:runtime \"971bdb96-41c8-47ae-8b76-fba43c126396\"], :kind \"code\", :error {:message \"Julia process julia went out of memory. You can assign this runtime more memory in the runtime settings and shutdown and restart the runner.\"}, :exec-duration 17556}, \"994b1052-bb1f-4930-8307-3dbf0d1ab1dd\" {:content \"saved_values = SavedValues(Float64, Tuple{Float64,Float64})\", :refs (), :output-log-lines {}, :language \"julia\", :id \"994b1052-bb1f-4930-8307-3dbf0d1ab1dd\", :compute-ref #uuid \"9f1d4b86-5e06-4ae7-a990-eb3123406497\", :runtime [:runtime \"971bdb96-41c8-47ae-8b76-fba43c126396\"], :kind \"code\", :error nil, :exec-duration 590}, \"6094b415-dd8a-4f54-9cff-87346fb2eb24\" {:content \"@benchmark solve(prob,Tsit5())\", :refs (), :output-log-lines {}, :language \"julia\", :id \"6094b415-dd8a-4f54-9cff-87346fb2eb24\", :compute-ref #uuid \"fc5c0f27-465c-434b-ad6a-81a9c849d7b9\", :runtime [:runtime \"971bdb96-41c8-47ae-8b76-fba43c126396\"], :kind \"code\", :error nil, :exec-duration 23499}, \"23a5e0c5-e6f2-4d14-8e8c-73c89d2151ab\" {:output-log nil, :content \"println(sol.t[10], \\\",\\\", sol[10])\", :refs (), :output-log-lines {:stdout 2}, :language \"julia\", :id \"23a5e0c5-e6f2-4d14-8e8c-73c89d2151ab\", :compute-ref #uuid \"9c266872-5931-4e97-89c1-cecab2508bcd\", :runtime [:runtime \"971bdb96-41c8-47ae-8b76-fba43c126396\"], :kind \"code\", :error nil, :exec-duration 685}, \"f17d5d42-ba02-4443-8973-c3bb6c9ec431\" {:output-log nil, :content \"sol[1,3]\", :refs (), :output-log-lines {}, :language \"julia\", :id \"f17d5d42-ba02-4443-8973-c3bb6c9ec431\", :compute-ref #uuid \"8d3d4ddd-a66c-4fd6-94f9-cfc011376966\", :runtime [:runtime \"971bdb96-41c8-47ae-8b76-fba43c126396\"], :kind \"code\", :error nil, :exec-duration 391}, \"c6208bfc-f5d6-4ca3-b697-c896522a2a7c\" {:content \"u0 = [50.0,0.0]\\ntspan = (0.0,15.0)\\np = (9.8,0.9)\\nprob = ODEProblem(ball!,u0,tspan,p,callback=bounce_cb)\", :refs (), :output-log-lines {}, :language \"julia\", :id \"c6208bfc-f5d6-4ca3-b697-c896522a2a7c\", :compute-ref #uuid \"77cccba3-e529-43ab-8b1a-2de20ad7d3ca\", :runtime [:runtime \"971bdb96-41c8-47ae-8b76-fba43c126396\"], :kind \"code\", :error nil, :exec-duration 362}, \"e99a0379-f6da-47af-8d15-d9c50c7831cb\" {:output-log nil, :content \"using DifferentialEquations\\nf(u,p,t) = 0.98u\\nu0 = 1.0\\ntspan = (0.0,1.0)\\nprob = ODEProblem(f,u0,tspan)\", :refs (), :output-log-lines {}, :language \"julia\", :id \"e99a0379-f6da-47af-8d15-d9c50c7831cb\", :compute-ref #uuid \"83677df1-8c1d-4c2d-8bef-19e7b3773766\", :runtime [:runtime \"971bdb96-41c8-47ae-8b76-fba43c126396\"], :kind \"code\", :error nil, :exec-duration 13636}, \"766904d3-1495-4e0a-8eca-68c7e146b591\" {:output-log nil, :content \"prob = ODEProblem(f,big_u0,tspan)\\nsol = solve(prob)\", :refs (), :output-log-lines {}, :language \"julia\", :id \"766904d3-1495-4e0a-8eca-68c7e146b591\", :compute-ref #uuid \"83330c67-5b4e-48e1-ac08-49da61172103\", :runtime [:runtime \"971bdb96-41c8-47ae-8b76-fba43c126396\"], :kind \"code\", :error nil, :exec-duration 23481}, \"1ee1ebda-b24a-4327-8924-9ff53bf0c7b5\" {:stdout-collapsed? false, :content \"sol = solve(prob,Tsit5());\", :refs (), :output-log-lines {:stdout 3}, :language \"julia\", :id \"1ee1ebda-b24a-4327-8924-9ff53bf0c7b5\", :compute-ref #uuid \"74dda6f4-336f-41b1-ae2b-bb346d553c28\", :runtime [:runtime \"971bdb96-41c8-47ae-8b76-fba43c126396\"], :kind \"code\", :error nil, :exec-duration 5875, :viewer/selected {nil \"text\"}}, \"2e5f0e02-a22a-4e7d-a4b5-a2fd8b6c7ceb\" {:output-log nil, :content \"prob = ODEProblem(fast_gm!,r0,(0.0,100.0),p)\\n# Will go out of memory if we don't turn off `save_everystep`!\\n@benchmark solve(prob,Tsit5(),save_everystep=false)\", :refs (), :output-log-lines {}, :language \"julia\", :id \"2e5f0e02-a22a-4e7d-a4b5-a2fd8b6c7ceb\", :compute-ref #uuid \"8a758734-2bd5-43f2-a083-2457cb432757\", :runtime [:runtime \"971bdb96-41c8-47ae-8b76-fba43c126396\"], :kind \"code\", :error nil, :exec-duration 39321}, \"46f8da21-84d2-4364-90db-56e9e757d83a\" {:output-log nil, :content \"sol = solve(prob,Tsit5(),reltol=1e-6)\", :refs (), :output-log-lines {}, :language \"julia\", :id \"46f8da21-84d2-4364-90db-56e9e757d83a\", :compute-ref #uuid \"de03131c-7601-47c8-bde4-b9e5b6966f19\", :runtime [:runtime \"971bdb96-41c8-47ae-8b76-fba43c126396\"], :kind \"code\", :error nil, :exec-duration 1636}, \"36eddd06-112c-4c9d-ad2c-66b84118f78a\" {:output-log nil, :content \"@benchmark solve(prob,CVODE_BDF(linear_solver=:GMRES),save_everystep=false)\", :refs (), :output-log-lines {}, :language \"julia\", :id \"36eddd06-112c-4c9d-ad2c-66b84118f78a\", :compute-ref #uuid \"e6716690-0665-413e-b9b3-ac87829d77e5\", :runtime [:runtime \"971bdb96-41c8-47ae-8b76-fba43c126396\"], :kind \"code\", :error nil, :exec-duration 26546}, \"cf463aa4-5ce4-46c7-b6c9-b3ec2899c028\" {:content \"bounce_cb = ContinuousCallback(condition,affect!)\", :refs (), :output-log-lines {}, :language \"julia\", :id \"cf463aa4-5ce4-46c7-b6c9-b3ec2899c028\", :compute-ref #uuid \"1216faa6-798c-4aa2-98b5-90ad0bfcf5bd\", :runtime [:runtime \"971bdb96-41c8-47ae-8b76-fba43c126396\"], :kind \"code\", :error nil, :exec-duration 587}, \"156daccb-57e1-4c24-99d7-fe5386c620bd\" {:content \"A = rand(1000,1000); B = rand(1000,1000); C = rand(1000,1000)\\ntest(A,B,C) = A + B + C\\n@benchmark test(A,B,C)\", :refs (), :output-log-lines {}, :language \"julia\", :id \"156daccb-57e1-4c24-99d7-fe5386c620bd\", :compute-ref #uuid \"80535a7b-f596-4e02-a9a7-6070bad7e4bb\", :runtime [:runtime \"971bdb96-41c8-47ae-8b76-fba43c126396\"], :kind \"code\", :error nil, :exec-duration 13691}, \"80b15659-c08a-4378-b675-d5c893de6e41\" {:content \"function terminate_condition(u,t,integrator)\\n    u[2]\\nend\\nterminate_cb = ContinuousCallback(terminate_condition,terminate_affect!)\", :refs (), :output-log-lines {}, :language \"julia\", :id \"80b15659-c08a-4378-b675-d5c893de6e41\", :compute-ref #uuid \"36a2f332-39fa-4db3-b192-0d4f2c63876e\", :runtime [:runtime \"971bdb96-41c8-47ae-8b76-fba43c126396\"], :kind \"code\", :error nil, :exec-duration 364}, \"8a774fb7-4bdc-40a2-81ee-3d911b14cb06\" {:content \"cb = ManifoldProjection(g2)\\nsol = solve(prob,callback=cb)\\nplot(sol,vars=(1,2))\", :refs (), :output-log-lines {}, :language \"julia\", :id \"8a774fb7-4bdc-40a2-81ee-3d911b14cb06\", :compute-ref #uuid \"281baa43-fcf5-40ad-ae67-fac84994b7ef\", :runtime [:runtime \"971bdb96-41c8-47ae-8b76-fba43c126396\"], :kind \"code\", :error nil, :exec-duration 31949}, \"5cb5b52b-06d2-4bde-a110-b505c591ae16\" {:content \"function lorenz_static(u,p,t)\\n dx = 10.0*(u[2]-u[1])\\n dy = u[1]*(28.0-u[3]) - u[2]\\n dz = u[1]*u[2] - (8/3)*u[3]\\n @SVector [dx,dy,dz]\\nend\", :refs (), :output-log-lines {}, :language \"julia\", :id \"5cb5b52b-06d2-4bde-a110-b505c591ae16\", :compute-ref #uuid \"a35504d1-7f34-4bfa-831c-4ea38f3ba316\", :runtime [:runtime \"971bdb96-41c8-47ae-8b76-fba43c126396\"], :kind \"code\", :error nil, :exec-duration 373}, \"7ae00a69-0345-4379-873f-993119e5fed2\" {:output-log nil, :content \"plot(sol, linewidth=5,\\n     title=\\\"Solution to the linear ODE with a thick line\\\",\\n     xaxis=\\\"Time (t)\\\", yaxis=\\\"u(t) (in μm)\\\",\\n     label=\\\"My Thick Line!\\\") # legend=false\", :refs (), :output-log-lines {}, :language \"julia\", :id \"7ae00a69-0345-4379-873f-993119e5fed2\", :compute-ref #uuid \"71a1f562-d2e2-4322-9472-6ac699e8ad47\", :runtime [:runtime \"971bdb96-41c8-47ae-8b76-fba43c126396\"], :kind \"code\", :error nil, :exec-duration 1105}, \"0cce1b85-aa2d-4cbb-8068-79e1a80b1186\" {:output-log nil, :content \"sol.t\", :refs (), :output-log-lines {}, :language \"julia\", :id \"0cce1b85-aa2d-4cbb-8068-79e1a80b1186\", :compute-ref #uuid \"bcb34ec5-f97a-4763-a24c-1b9cc81990a4\", :runtime [:runtime \"971bdb96-41c8-47ae-8b76-fba43c126396\"], :kind \"code\", :error nil, :exec-duration 415}, \"9e876d50-9e11-458e-91a1-40f0d6bdcb18\" {:content \"test7!(D,A,B,C) = @. D = A + B + C #only one array allocated\\n@benchmark test7!(D,A,B,C)\", :refs (), :output-log-lines {}, :language \"julia\", :id \"9e876d50-9e11-458e-91a1-40f0d6bdcb18\", :compute-ref #uuid \"5330261c-e5ef-403a-8430-7471d59aa020\", :runtime [:runtime \"971bdb96-41c8-47ae-8b76-fba43c126396\"], :kind \"code\", :error nil, :exec-duration 13763}, \"71186c65-56a6-4c54-98b9-54933f5458d8\" {:output-log nil, :content \"tspan = (0.0,100.0)\\nprob = ODEProblem(lorenz!,u0,tspan,p)\", :refs (), :output-log-lines {}, :language \"julia\", :id \"71186c65-56a6-4c54-98b9-54933f5458d8\", :compute-ref #uuid \"afc1d799-90fc-46c9-9d82-1630af222e72\", :runtime [:runtime \"971bdb96-41c8-47ae-8b76-fba43c126396\"], :kind \"code\", :error nil, :exec-duration 546}, \"8a00953f-cfbb-43fb-abc1-59a1e1918893\" {:output-log nil, :content \"sol = solve(prob,save_everystep=false)\", :refs (), :output-log-lines {}, :language \"julia\", :id \"8a00953f-cfbb-43fb-abc1-59a1e1918893\", :compute-ref #uuid \"d7b022cc-2b7f-44f9-a4f6-ecc18a0364b2\", :runtime [:runtime \"971bdb96-41c8-47ae-8b76-fba43c126396\"], :kind \"code\", :error nil, :exec-duration 471}, \"4a5503d2-e562-46d5-9b2e-463a979976c7\" {:content \"@benchmark solve(prob,Tsit5(),save_everystep=false)\", :refs (), :output-log-lines {}, :language \"julia\", :id \"4a5503d2-e562-46d5-9b2e-463a979976c7\", :compute-ref #uuid \"c51a9295-14e3-4d73-b77f-79359a1278a1\", :runtime [:runtime \"971bdb96-41c8-47ae-8b76-fba43c126396\"], :kind \"code\", :error nil, :exec-duration 11687}, \"f596b283-56b5-4cd4-9c7d-83a749350cfe\" {:output-log nil, :content \"sol = solve(prob)\", :refs (), :output-log-lines {}, :language \"julia\", :id \"f596b283-56b5-4cd4-9c7d-83a749350cfe\", :compute-ref #uuid \"a0340262-0838-4495-843e-0091d7cd17df\", :runtime [:runtime \"971bdb96-41c8-47ae-8b76-fba43c126396\"], :kind \"code\", :error nil, :exec-duration 14051}, \"721ba2e1-4c40-4c40-a821-c8ca13bedf63\" {:content \"u0 = [1.0,0.0,0.0]\\np = (10,28,8/3)\\ntspan = (0.0,100.0)\\nprob = ODEProblem(lorenz,u0,tspan,p)\\nsol = solve(prob)\\nplot(sol, vars=(1, 2, 3), lw=1)\", :refs (), :output-log-lines {}, :language \"julia\", :id \"721ba2e1-4c40-4c40-a821-c8ca13bedf63\", :compute-ref #uuid \"d6065c28-7f50-49ea-a00a-6bf33bc318ca\", :runtime [:runtime \"971bdb96-41c8-47ae-8b76-fba43c126396\"], :kind \"code\", :error nil, :exec-duration 8372}, \"bc3750f9-a5fa-4797-8474-53dfc14ed719\" {:content \"test2(A,B,C) = map((a,b,c)->a+b+c,A,B,C)\\n@benchmark test2(A,B,C)\", :refs (), :output-log-lines {}, :language \"julia\", :id \"bc3750f9-a5fa-4797-8474-53dfc14ed719\", :compute-ref #uuid \"2dc86fd8-58a0-4c91-971e-b7dd38165da8\", :runtime [:runtime \"971bdb96-41c8-47ae-8b76-fba43c126396\"], :kind \"code\", :error nil, :exec-duration 13649}, \"5cd2d69d-4ab7-4fb7-b12d-83ede7d8a061\" {:content \"plot(sol,vars=[1])\", :refs (), :output-log-lines {}, :language \"julia\", :id \"5cd2d69d-4ab7-4fb7-b12d-83ede7d8a061\", :compute-ref #uuid \"18251a33-52e6-4bdc-8c12-456b72fb9726\", :runtime [:runtime \"971bdb96-41c8-47ae-8b76-fba43c126396\"], :kind \"code\", :error nil, :exec-duration 3005}, \"d715bdfc-3286-45ca-8b68-f474ca699e4f\" {:output-log nil, :content \"[t+u for (u,t) in tuples(sol)]\", :refs (), :output-log-lines {}, :language \"julia\", :id \"d715bdfc-3286-45ca-8b68-f474ca699e4f\", :compute-ref #uuid \"02f54e14-05a8-4771-9d1d-ce78366b058e\", :runtime [:runtime \"971bdb96-41c8-47ae-8b76-fba43c126396\"], :kind \"code\", :error nil, :exec-duration 298}, \"a769a04b-e67f-41e5-9a2b-7cf1b1da1bfd\" {:content \"plot(sol,vars=(0,1),denseplot=false)\", :refs (), :output-log-lines {}, :language \"julia\", :id \"a769a04b-e67f-41e5-9a2b-7cf1b1da1bfd\", :compute-ref #uuid \"c18cc83f-64d8-47b6-90f2-109a8743171b\", :runtime [:runtime \"971bdb96-41c8-47ae-8b76-fba43c126396\"], :kind \"code\", :error nil, :exec-duration 1935}, \"7673db1e-7f30-4b05-949c-c9b12fa943cd\" {:content \"using DifferentialEquations, Plots, ParameterizedFunctions\\nlorenz3 = @ode_def begin\\n  dx = σ*(y-x)\\n  dy = ρ*x-y-x*z\\n  dz = x*y-β*z\\nend σ β ρ\\n\\np = [10.0,8/3,28]\\nu0 = [1., 5., 10.]\\ntspan = (0., 100.)\\nprob = ODEProblem(lorenz3, u0, tspan, p)\\nsol = solve(prob)\\nplot(sol)\", :refs (), :output-log-lines {}, :language \"julia\", :id \"7673db1e-7f30-4b05-949c-c9b12fa943cd\", :compute-ref #uuid \"cceada93-942d-455f-9736-de8c0b55179f\", :runtime [:runtime \"971bdb96-41c8-47ae-8b76-fba43c126396\"], :kind \"code\", :error nil, :exec-duration 18795}, \"0215cdec-7ba7-4efe-abf1-198ee793d421\" {:output-log nil, :content \"p = (1.0,1.0,1.0,10.0,0.001,100.0,N)\\nfunction fast_gm!(du,u,p,t)\\n  a,α,ubar,β,D1,D2,N = p\\n\\n  @inbounds for j in 2:N-1, i in 2:N-1\\n    du[i,j,1] = D1*(u[i-1,j,1] + u[i+1,j,1] + u[i,j+1,1] + u[i,j-1,1] - 4u[i,j,1]) +\\n              a*u[i,j,1]^2/u[i,j,2] + ubar - α*u[i,j,1]\\n  end\\n\\n  @inbounds for j in 2:N-1, i in 2:N-1\\n    du[i,j,2] = D2*(u[i-1,j,2] + u[i+1,j,2] + u[i,j+1,2] + u[i,j-1,2] - 4u[i,j,2]) +\\n            a*u[i,j,1]^2 - β*u[i,j,2]\\n  end\\n\\n  @inbounds for j in 2:N-1\\n    i = 1\\n    du[1,j,1] = D1*(2u[i+1,j,1] + u[i,j+1,1] + u[i,j-1,1] - 4u[i,j,1]) +\\n            a*u[i,j,1]^2/u[i,j,2] + ubar - α*u[i,j,1]\\n  end\\n  @inbounds for j in 2:N-1\\n    i = 1\\n    du[1,j,2] = D2*(2u[i+1,j,2] + u[i,j+1,2] + u[i,j-1,2] - 4u[i,j,2]) +\\n            a*u[i,j,1]^2 - β*u[i,j,2]\\n  end\\n  @inbounds for j in 2:N-1\\n    i = N\\n    du[end,j,1] = D1*(2u[i-1,j,1] + u[i,j+1,1] + u[i,j-1,1] - 4u[i,j,1]) +\\n           a*u[i,j,1]^2/u[i,j,2] + ubar - α*u[i,j,1]\\n  end\\n  @inbounds for j in 2:N-1\\n    i = N\\n    du[end,j,2] = D2*(2u[i-1,j,2] + u[i,j+1,2] + u[i,j-1,2] - 4u[i,j,2]) +\\n           a*u[i,j,1]^2 - β*u[i,j,2]\\n  end\\n\\n  @inbounds for i in 2:N-1\\n    j = 1\\n    du[i,1,1] = D1*(u[i-1,j,1] + u[i+1,j,1] + 2u[i,j+1,1] - 4u[i,j,1]) +\\n              a*u[i,j,1]^2/u[i,j,2] + ubar - α*u[i,j,1]\\n  end\\n  @inbounds for i in 2:N-1\\n    j = 1\\n    du[i,1,2] = D2*(u[i-1,j,2] + u[i+1,j,2] + 2u[i,j+1,2] - 4u[i,j,2]) +\\n              a*u[i,j,1]^2 - β*u[i,j,2]\\n  end\\n  @inbounds for i in 2:N-1\\n    j = N\\n    du[i,end,1] = D1*(u[i-1,j,1] + u[i+1,j,1] + 2u[i,j-1,1] - 4u[i,j,1]) +\\n             a*u[i,j,1]^2/u[i,j,2] + ubar - α*u[i,j,1]\\n  end\\n  @inbounds for i in 2:N-1\\n    j = N\\n    du[i,end,2] = D2*(u[i-1,j,2] + u[i+1,j,2] + 2u[i,j-1,2] - 4u[i,j,2]) +\\n             a*u[i,j,1]^2 - β*u[i,j,2]\\n  end\\n\\n  @inbounds begin\\n    i = 1; j = 1\\n    du[1,1,1] = D1*(2u[i+1,j,1] + 2u[i,j+1,1] - 4u[i,j,1]) +\\n              a*u[i,j,1]^2/u[i,j,2] + ubar - α*u[i,j,1]\\n    du[1,1,2] = D2*(2u[i+1,j,2] + 2u[i,j+1,2] - 4u[i,j,2]) +\\n              a*u[i,j,1]^2 - β*u[i,j,2]\\n\\n    i = 1; j = N\\n    du[1,N,1] = D1*(2u[i+1,j,1] + 2u[i,j-1,1] - 4u[i,j,1]) +\\n             a*u[i,j,1]^2/u[i,j,2] + ubar - α*u[i,j,1]\\n    du[1,N,2] = D2*(2u[i+1,j,2] + 2u[i,j-1,2] - 4u[i,j,2]) +\\n             a*u[i,j,1]^2 - β*u[i,j,2]\\n\\n    i = N; j = 1\\n    du[N,1,1] = D1*(2u[i-1,j,1] + 2u[i,j+1,1] - 4u[i,j,1]) +\\n             a*u[i,j,1]^2/u[i,j,2] + ubar - α*u[i,j,1]\\n    du[N,1,2] = D2*(2u[i-1,j,2] + 2u[i,j+1,2] - 4u[i,j,2]) +\\n             a*u[i,j,1]^2 - β*u[i,j,2]\\n\\n    i = N; j = N\\n    du[end,end,1] = D1*(2u[i-1,j,1] + 2u[i,j-1,1] - 4u[i,j,1]) +\\n             a*u[i,j,1]^2/u[i,j,2] + ubar - α*u[i,j,1]\\n    du[end,end,2] = D2*(2u[i-1,j,2] + 2u[i,j-1,2] - 4u[i,j,2]) +\\n             a*u[i,j,1]^2 - β*u[i,j,2]\\n   end\\nend\\nprob = ODEProblem(fast_gm!,r0,(0.0,0.1),p)\\n@benchmark solve(prob,Tsit5())\", :refs (), :output-log-lines {}, :language \"julia\", :id \"0215cdec-7ba7-4efe-abf1-198ee793d421\", :compute-ref #uuid \"5d9e737e-7e72-48fd-b0b1-60a164d58eec\", :runtime [:runtime \"971bdb96-41c8-47ae-8b76-fba43c126396\"], :kind \"code\", :error nil, :exec-duration 18448}, \"19e1aab4-1a3e-4f51-8ff0-c11fc81c3e50\" {:output-log nil, :content \"sol[3]\", :refs (), :output-log-lines {}, :language \"julia\", :id \"19e1aab4-1a3e-4f51-8ff0-c11fc81c3e50\", :compute-ref #uuid \"7e98e393-b3d7-4a6b-aa0d-1ddf129269f0\", :runtime [:runtime \"971bdb96-41c8-47ae-8b76-fba43c126396\"], :kind \"code\", :error nil, :exec-duration 331}, \"c336d04e-5726-4e3e-bc25-331dca83b3dc\" {:output-log nil, :content \"sol = solve(prob,dense=false)\", :refs (), :output-log-lines {}, :language \"julia\", :id \"c336d04e-5726-4e3e-bc25-331dca83b3dc\", :compute-ref #uuid \"d52dd6de-e038-48c1-9403-1b869a0046df\", :runtime [:runtime \"971bdb96-41c8-47ae-8b76-fba43c126396\"], :kind \"code\", :error nil, :exec-duration 548}, \"1f2166b6-2048-40bc-a05a-35cde2395c06\" {:content \"saved_values.saveval\", :refs (), :output-log-lines {}, :language \"julia\", :id \"1f2166b6-2048-40bc-a05a-35cde2395c06\", :compute-ref #uuid \"48585532-57d8-473e-b275-1cdd4ad33afb\", :runtime [:runtime \"971bdb96-41c8-47ae-8b76-fba43c126396\"], :kind \"code\", :error nil, :exec-duration 822}, \"92342c13-1c5e-4af9-a75a-559a61993968\" {:output-log nil, :content \"sol = solve(prob,save_everystep=false,save_start = false)\", :refs (), :output-log-lines {}, :language \"julia\", :id \"92342c13-1c5e-4af9-a75a-559a61993968\", :compute-ref #uuid \"1a863232-a606-434e-a0b3-3d5d5e7d9fad\", :runtime [:runtime \"971bdb96-41c8-47ae-8b76-fba43c126396\"], :kind \"code\", :error nil, :exec-duration 616}, \"8f1bf5c7-9812-469c-a44f-9819fc58d25b\" {:output-log nil, :content \"plot!(sol.t, t->1.0*exp(0.98t), lw=3, ls=:dash, label=\\\"True Solution!\\\")\", :refs (), :output-log-lines {}, :language \"julia\", :id \"8f1bf5c7-9812-469c-a44f-9819fc58d25b\", :compute-ref #uuid \"c0d89140-5c03-4d09-98b6-89e5e92494c2\", :runtime [:runtime \"971bdb96-41c8-47ae-8b76-fba43c126396\"], :kind \"code\", :error nil, :exec-duration 977}, \"71dd1bf8-028a-4036-9e4e-ceb966147c62\" {:output-log nil, :content \"p = (1.0,1.0,1.0,10.0,0.001,100.0,Ayu,uAx,Du,Ayv,vAx,Dv) # a,α,ubar,β,D1,D2\\nfunction gm4!(dr,r,p,t)\\n  a,α,ubar,β,D1,D2,Ayu,uAx,Du,Ayv,vAx,Dv = p\\n  u = @view r[:,:,1]\\n  v = @view r[:,:,2]\\n  du = @view dr[:,:,1]\\n  dv = @view dr[:,:,2]\\n  mul!(Ayu,Ay,u)\\n  mul!(uAx,u,Ax)\\n  mul!(Ayv,Ay,v)\\n  mul!(vAx,v,Ax)\\n  @. Du = D1*(Ayu + uAx)\\n  @. Dv = D2*(Ayv + vAx)\\n  @. du = Du + a*u*u./v + ubar - α*u\\n  @. dv = Dv + a*u*u - β*v\\nend\\nprob = ODEProblem(gm4!,r0,(0.0,0.1),p)\\n@benchmark solve(prob,Tsit5())\", :refs (), :output-log-lines {}, :language \"julia\", :id \"71dd1bf8-028a-4036-9e4e-ceb966147c62\", :compute-ref #uuid \"f9542479-681c-4336-9443-f0b70f5a172d\", :runtime [:runtime \"971bdb96-41c8-47ae-8b76-fba43c126396\"], :kind \"code\", :error nil, :exec-duration 19337}, \"8456f39f-b3e3-4537-8918-42c8c2df425f\" {:output-log nil, :content \"u0 = [1.0,0.0,0.0]\", :refs (), :output-log-lines {}, :language \"julia\", :id \"8456f39f-b3e3-4537-8918-42c8c2df425f\", :compute-ref #uuid \"aebbf05b-d072-4fb8-b1f2-9ee0003329f4\", :runtime [:runtime \"971bdb96-41c8-47ae-8b76-fba43c126396\"], :kind \"code\", :error nil, :exec-duration 131}, \"17881b10-4f99-4064-b486-5fec6309d504\" {:content \"# Not available in MOdelingToolkit.jl yet\\n# plot(sol,vars=[:x])\", :refs (), :output-log-lines {}, :language \"julia\", :id \"17881b10-4f99-4064-b486-5fec6309d504\", :compute-ref #uuid \"749c07ab-3762-4368-a4a3-f790ab1bf93f\", :runtime [:runtime \"971bdb96-41c8-47ae-8b76-fba43c126396\"], :kind \"code\", :error nil, :exec-duration 127}, \"833310e1-39b1-46d2-8ea4-c9463cec8b69\" {:output-log nil, :content \"sol = solve(prob,alg_hints=[:stiff])\", :refs (), :output-log-lines {}, :language \"julia\", :id \"833310e1-39b1-46d2-8ea4-c9463cec8b69\", :compute-ref #uuid \"03b75ffd-2a4a-4e0d-bc0b-fd0b40706963\", :runtime [:runtime \"971bdb96-41c8-47ae-8b76-fba43c126396\"], :kind \"code\", :error nil, :exec-duration 2284}, \"10b25881-0908-40b7-a226-1fd263c8dbcf\" {:content \"sol = solve(prob, alg_hints=[:stiff])\", :refs (), :output-log-lines {}, :language \"julia\", :id \"10b25881-0908-40b7-a226-1fd263c8dbcf\", :compute-ref #uuid \"6e532435-1b0f-46f5-ad92-5e4b9a06af7c\", :runtime [:runtime \"971bdb96-41c8-47ae-8b76-fba43c126396\"], :kind \"code\", :error nil, :exec-duration 15354}, \"7f446497-0ded-45c0-9394-54b352dd49ec\" {:output-log nil, :content \"sol\", :refs (), :output-log-lines {}, :language \"julia\", :id \"7f446497-0ded-45c0-9394-54b352dd49ec\", :compute-ref #uuid \"d21f24f0-74db-4f4d-9a36-fe2f9e22365f\", :runtime [:runtime \"971bdb96-41c8-47ae-8b76-fba43c126396\"], :kind \"code\", :error nil, :exec-duration 187}, \"99be70eb-1067-4fc5-a475-9f3f54e2c07c\" {:output-log nil, :content \"plot(sol)\\nplot!(sol.t, t->1.0*exp(0.98t),lw=3,ls=:dash,label=\\\"True Solution!\\\")\", :refs (), :output-log-lines {}, :language \"julia\", :id \"99be70eb-1067-4fc5-a475-9f3f54e2c07c\", :compute-ref #uuid \"1db04035-9a7c-4ca5-8543-b37a81b829c8\", :runtime [:runtime \"971bdb96-41c8-47ae-8b76-fba43c126396\"], :kind \"code\", :error nil, :exec-duration 1907}, \"5b0db77b-4350-4d4a-99b6-95e731b1b8ec\" {:content \"kick_cb = DiscreteCallback(condition_kick,affect_kick!)\\nu0 = [50.0,0.0]\\ntspan = (0.0,10.0)\\np = (9.8,0.9)\\nprob = ODEProblem(ball!,u0,tspan,p,callback=kick_cb)\", :refs (), :output-log-lines {}, :language \"julia\", :id \"5b0db77b-4350-4d4a-99b6-95e731b1b8ec\", :compute-ref #uuid \"f42f9fb8-72e2-4943-800c-b56f09de4b9e\", :runtime [:runtime \"971bdb96-41c8-47ae-8b76-fba43c126396\"], :kind \"code\", :error nil, :exec-duration 389}, \"202e10cf-4c03-4d52-9b84-b0d090bd6edf\" {:output-log nil, :content \"A = Array(sol)\", :refs (), :output-log-lines {}, :language \"julia\", :id \"202e10cf-4c03-4d52-9b84-b0d090bd6edf\", :compute-ref #uuid \"41c850e7-6b3f-47bd-9398-b95a7f1b8b7f\", :runtime [:runtime \"971bdb96-41c8-47ae-8b76-fba43c126396\"], :kind \"code\", :error nil, :exec-duration 914}, \"07530863-ec9c-430e-a6e8-470748292c08\" {:output-log nil, :content \"sol = solve(prob)\", :refs (), :output-log-lines {}, :language \"julia\", :id \"07530863-ec9c-430e-a6e8-470748292c08\", :compute-ref #uuid \"307d53fe-fe57-4746-955f-846e2221d9af\", :runtime [:runtime \"971bdb96-41c8-47ae-8b76-fba43c126396\"], :kind \"code\", :error nil, :exec-duration 8506}, \"628284e4-067b-4933-bcb6-03bdded5cec9\" {:output-log nil, :content \"sol[3]\", :refs (), :output-log-lines {}, :language \"julia\", :id \"628284e4-067b-4933-bcb6-03bdded5cec9\", :compute-ref #uuid \"44b27e20-97e8-4a76-8b2f-338f78b43d30\", :runtime [:runtime \"971bdb96-41c8-47ae-8b76-fba43c126396\"], :kind \"code\", :error nil, :exec-duration 162}, \"9e7cdd69-e963-4f23-818f-7e18b6b69dc1\" {:content \"@benchmark A*B\", :refs (), :output-log-lines {}, :language \"julia\", :id \"9e7cdd69-e963-4f23-818f-7e18b6b69dc1\", :compute-ref #uuid \"2b5d346f-f4de-4bdb-ba57-04c8b6d4e9bc\", :runtime [:runtime \"971bdb96-41c8-47ae-8b76-fba43c126396\"], :kind \"code\", :error nil, :exec-duration 14224}}",
   "runtime-id": "971bdb96-41c8-47ae-8b76-fba43c126396",
   "url": "https://nextjournal.com/sosiris-de/ode-diffeq"
  }
 },
 "nbformat": 4,
 "nbformat_minor": 4
}
